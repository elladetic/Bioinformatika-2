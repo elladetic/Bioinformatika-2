{
 "cells": [
  {
   "cell_type": "markdown",
   "metadata": {},
   "source": [
    "# PRVI ZADATAK - Viterbijev algoritam u log-spaceu"
   ]
  },
  {
   "cell_type": "markdown",
   "metadata": {},
   "source": [
    "Eleonora Detić, Eva Belcar"
   ]
  },
  {
   "cell_type": "markdown",
   "metadata": {},
   "source": [
    "Izradite Viterbijev algoritam (za povremeno nepoštenu kockarnicu) u log-space-u. Drugim riječima, umjesto s produktima (vjerojatnosti), baratat ćemo sa sumama (logaritama vjerojatnosti).\n",
    "Kod testirajte na nekom dovoljno dugačkom nizu (barem 1000 znakova).\n",
    "Parametre modela uzmite iz prethodnog zadatka o kockarnici."
   ]
  },
  {
   "cell_type": "code",
   "execution_count": 1,
   "metadata": {},
   "outputs": [],
   "source": [
    "import random\n",
    "import numpy as np\n",
    "#import os\n",
    "import numpy as np\n",
    "#import ViterbiAlgorithm\n",
    "#from tabulate import tabulate\n",
    "from generate_observations import generate_observations\n",
    "#from generate_observations import print_result\n",
    "from estimate_based_on_observation import pretty_print\n",
    "#from estimate_based_on_observation import updateMatricesAfterRun\n",
    "from estimate_based_on_observation import runLoop"
   ]
  },
  {
   "cell_type": "markdown",
   "metadata": {},
   "source": [
    "Generiramo random uzorak od 1000 brojeva.\n",
    "Ne uzimamo uniformnu distribuciju jer će nam tada ispasti da se uvijek nalazimo u _fair_ kockici, pa simuliramo uzorak s _wighted_ parametrima (sami odabiremo parametre)."
   ]
  },
  {
   "cell_type": "code",
   "execution_count": 2,
   "metadata": {},
   "outputs": [],
   "source": [
    "randomlist = random.choices(['1','2','3','4','5','6'], [0.1,0.1,0.1,0.1,0.1,0.3], k = 1000)\n",
    "x = \"\".join([str(int) for int in randomlist])"
   ]
  },
  {
   "cell_type": "markdown",
   "metadata": {},
   "source": [
    "Matricu $V$ računamo rekurzivno prema formuli:\n",
    "$$V_k(i)=e_k(i)\\max_{j\\in\\{0,1\\}} \\left(a_{jk}V_j(i-1)\\right)\\to \\boxed{\\ln V_k(i)=\\ln e_k(i)+ \\max_{j\\in\\{0,1\\}} \\left(\\ln a_{jk}+ \\ln V_j(i-1)\\right)}$$\n",
    "gdje je $j,k\\in\\{0,1\\}$, $a_{00}=cl$, $a_{01}=dl$, $a_{10}=df$ i $a_{11}=cf$, dok je $i$ broj koji smo dobili u tom bacanju."
   ]
  },
  {
   "cell_type": "markdown",
   "metadata": {},
   "source": [
    "Treba paziti da ne logaritmiramo više puta."
   ]
  },
  {
   "cell_type": "code",
   "execution_count": 3,
   "metadata": {},
   "outputs": [],
   "source": [
    "def new_viterbi(F,L,cl,dl,cf,df):\n",
    "    tmp = []\n",
    "    V = []\n",
    "    for i in range(len(x)):\n",
    "        tmp.append(0) #array koji sadrži nule, iste duljine kao i x\n",
    "\n",
    "    for i in range(2):\n",
    "        V.append(tmp[:]) #prazna matrica 2 puta duljina od x\n",
    "\n",
    "\n",
    "    k = int(x[0]) - 1 \n",
    "\n",
    "\n",
    "    V[0][0] = F[k] #vjerojatnost da je pao prvi broj (iz generiranog niza) ako sam u fair kockici\n",
    "    V[1][0] = L[k] #vjerojatnost da je pao prvi broj (iz generiranog niza) ako sam u floaded kockici\n",
    "\n",
    "\n",
    "#rekurzivno računamo V pomoću gore navedene formule\n",
    "    for i in range(1,  len(x)):\n",
    "        tmp = []                         #privremena lista\n",
    "        k = int(x[i]) - 1                #dohvaćam indeks broja koji je pao u i-tom bacanju\n",
    "        tmp.append(V[0][i-1]+F[k]+cl)    #appendam privremenu listu: log-vjer. ako smo u prošlom bili u F\n",
    "                                                                # + log-vjer. da je pao broj (k+1) u F kocki\n",
    "                                                                # + log-vjer. da cu ostat u L kocki?\n",
    "        tmp.append(V[1][i-1]+F[k]+df)    #appendam privremenu listu: log-vjer. ako smo u prošlom bili u L\n",
    "                                                                # + log-vjer. da je pao broj (k+1) u F kocki\n",
    "                                                                # + log-vjer. da cu preći iz F u L?\n",
    "        tmp.sort()                       #sortiram privremenu listu\n",
    "        V[0][i] = tmp[1]                 #biram prvi element (maksimalni) od ta dva\n",
    "    \n",
    "    #ponavljam postupak od gore\n",
    "        tmp = []\n",
    "        tmp.append(V[1][i-1]+L[k]+cf)\n",
    "        tmp.append(V[0][i-1]+L[k]+dl)\n",
    "        tmp.sort()\n",
    "        V[1][i] = tmp[1]    \n",
    "    \n",
    "    \n",
    "#ako mi je zadnja log-vjer. u matrici V veća u prvom redu (fair), postavi zastavicu na nula, inače 1\n",
    "    if V[0][len(V[0])-1] > V[1][len(V[1])-1]:\n",
    "        l = 0\n",
    "    else:\n",
    "        l = 1\n",
    "\n",
    "\n",
    "    le = len(V[0]) - 1    #duljina \"preostalog tracebacka\"\n",
    "    put = ''              #spremanje optimalnog puta\n",
    "\n",
    "    while le >= 0:\n",
    "        \n",
    "        k = int(x[le])-1              #dohvaćam indeks(potrebno za emisijsku matricu)\n",
    "        \n",
    "        if le == 0:                   #slučaj kada dođemo do zadnjeg elementa\n",
    "            if l == 1:                #bili smo u loaded kockici\n",
    "                put = 'L' + put  \n",
    "                le = le - 1\n",
    "            elif l == 0:              #inače smo bili u fair kockici\n",
    "                put = 'F' + put \n",
    "                le = le - 1\n",
    "          \n",
    "        elif l == 0:            #s ovim cudnim nejednakostima provjeravam jednakost? Greška je zaokruživanje?\n",
    "                                #sigurno ću dodati F u put jer l=0\n",
    "                                #provjeravam hoću li ostati u F ili prelazim u L (traceback po formuli)\n",
    "            if (( V[l][le]/( V[l+1][le-1]+(F[k]+df) ) ) > 0.99999999999 and ( V[l][le]/( V[l+1][le-1]+(F[k]+df) ) )<=1.0000000000000003 ):\n",
    "                put = 'F' + put \n",
    "                le = le - 1\n",
    "                l = l + 1\n",
    "                                  #po formuli zbog df, znači da je ovo stanje proizašlo iz loaded kockice (l postaje 1)\n",
    "                                  #iz L u F\n",
    "                                  #analogno slijedi za ostale slučajeve\n",
    "            elif ( ( V[l][le]/( V[l][le-1]+(F[k]+cl) ) ) > 0.9999999999 and ( V[l][le]/( V[l][le-1]+(F[k]+cl) ) )<=1.0000000000000003 ):\n",
    "                put = 'F' + put\n",
    "                le = le - 1\n",
    "    \n",
    "        elif l == 1:\n",
    "            \n",
    "            if ( ( V[l][le]/( V[l-1][le-1]+(L[k]+dl) ) ) > 0.99999999999 and ( V[l][le]/( V[l-1][le-1]+(L[k]+dl) ) )<=1.0000000000000003 ):\n",
    "                put = 'L' + put  \n",
    "                le = le - 1\n",
    "                l = l - 1\n",
    "                \n",
    "            elif ( ( V[l][le]/( V[l][le-1]+(L[k]+cf) ) ) > 0.999999999 and ( V[l][le]/( V[l][le-1]+(L[k]+cf) ) )<=1.0000000000000003 ):\n",
    "                put = 'L' + put\n",
    "                le = le - 1        \n",
    "    return(put)   \n",
    "    "
   ]
  },
  {
   "cell_type": "code",
   "execution_count": 4,
   "metadata": {},
   "outputs": [
    {
     "data": {
      "text/plain": [
       "'LLLLLLLLLLLLLLLLLLLLLLLLLLLLLLLLLLLLLLLLLLLLLFFFFFFLLLLLLLLLFFFFFFFFFFFFFFFFFFFFFFFFFFFFFFFFFFFLLLLLLLLLLLLLLFFFFFFFFFLLLLLLLLLLLLFFFFFFFFFFFFFFFFFFLLLLLLLLLLLLLLLLLFFFFFFFFFFFLLLLLLLFFFFFFFFFFFFFFFFFLLLLLLLLLLFFFFFFFFFFFFFFFFFFFFFFFFFFFFFFFFFFFFFFFFFFLLLLLLLLLLLLLLLLLLLLFFFFFFFFFLLLLLLLLLLLLLLLLLLLLLLLLLLLLLLLLLLLLLLLLLLLLLLLLLLLLLLLLLLLLLLLLLLLLLLLLLLLLLLLLLLLLLLLLLLLLLLLLLLLLLLLLLLLLLLLLLLLLLLLLLLLLLLLFFFFFFFFFFFFFFFFFFFFFFFFFFFFFFFFFFFFFFFFFFFFFFFFFFFFFFLLLLLLLLLLLLLLLFFFFFFFFLLLLLLLLFFFFFFFFFFFFFFFFFFFFFFFFFFFFFFFFFFFFFFFFFFFFFFFFFFFFFFFFFFFLLLLLLLLLLFFFFFFFFFFFFFFFFFFFFFFFFFFLLLLLLLLLLLLLLLLLLLLLLLLLLLLLLLLLLLLLLLLLLLLLLLLLLLLLLLLLLLLLLLLLLLLLLLLLLLLFFFFFFFFFFFFFFFFFFFFFFFLLLLLLLLLLLLLLLLLLLLLLLLLLLLLLLLLLLLLLLLLLLLFFFFFFFFFFFFFFFFFFFFFFFFFLLLLLLLLLLLLLLLLLLLLLFFFFFFFFFFFFFFFFFFFFFFFFFFFLLLLLLLLLLLLLLLLLLLLLLLLLLLLLLLLLLLLLLLLLLLLLLLLLLLLLLLLLLLLLLLLLLLLLLLLLLLLLLLLFFFFFFFFFFFFFFFLLLLFFFFFFFFFFFFFFFFFFFFFFFFFFFFFFFFFFFFFFFFFLLLLLLLLLLLFFFFFFFFFFFLLLLLLLLLLLLLLLLLLLLLLLLLLLLLLLLLL'"
      ]
     },
     "execution_count": 4,
     "metadata": {},
     "output_type": "execute_result"
    }
   ],
   "source": [
    "#emisijska matrica\n",
    "F = np.log10([ 1.0/6.0, 1.0/6.0, 1.0/6.0, 1.0/6.0, 1.0/6.0, 1.0/6.0 ]) #FAIR\n",
    "L = np.log10([ 1.0/10.0, 1.0/10.0, 1.0/10.0, 1.0/10.0, 1.0/10.0, 1.0/2.0]) #LOADED\n",
    "\n",
    "#tranzicijska matrica\n",
    "cl = np.log10(0.9)\n",
    "dl = np.log10(0.1)\n",
    "cf = np.log10(0.8)\n",
    "df = np.log10(0.2)\n",
    "\n",
    "new_viterbi(F,L,cl,dl,cf,df)"
   ]
  },
  {
   "cell_type": "markdown",
   "metadata": {},
   "source": [
    "## Zadatak 2"
   ]
  },
  {
   "cell_type": "markdown",
   "metadata": {},
   "source": [
    "U narednim zadacima cemo se baviti optimizacijom modela, bolje receno, optimizacijom parametara modela; ako imamo kockarnicu sa samo jednom kockom i dani niz - oznacimo ga sa D (data) - onda je jasno koji su parametri θ\n",
    "θkoji maksimiziraju vjerodostojnost podataka, tj.\n",
    "\n",
    "(dokazite, tj. pronadjite dokaz); no, ako se nas model sastoji od barem dvije kocke, ne postoji zatvorena formula kojom bismo odredili optimalne parametre; zbog toga se sluzimo raznim aproksimacijama i/ili iterativnim procedurama da \"pronadjemo\" optimalne parametre; u ovom cemo zadatku napraviti dio koraka za iterativnu/aproksimativnu optimizaciju parametara modela (pomocu Viterbijevog algoritma); dakle, zadatak je:\n",
    "\n",
    "i) simulirati dugacak niz (5000 ili 10000 znakova, recimo) iz nekog modela (s dvije kocke)\n",
    "\n",
    "ii) za neki model, s nekim drugim parametrima (razlicitim, ali ne jako razlicitim), pronaci optimalan put/prolaz niza kroz model\n",
    "\n",
    "iii) za tako dobiveni prolaz, odrediti emisijske i tranzicijske frekvencije (npr. kocka 1 je znak 1 emitirala 891 put, znak 2 902 puta, itd...., analogno za tranzicije); nakon normalizacije (tako da se odgovarajuci parametri sumiraju na 1), imate \"nove\" parametre modela\n",
    "\n",
    "iv) provjerite koliko su vam tako dobiveni \"novi\" parametri slicni pocetnima (onima iz kojih ste simulirali)"
   ]
  },
  {
   "cell_type": "code",
   "execution_count": 8,
   "metadata": {},
   "outputs": [
    {
     "name": "stdout",
     "output_type": "stream",
     "text": [
      "Truth:\n",
      "| Transitions   |      F |      L |\n",
      "|---------------|--------|--------|\n",
      "| Begin         | 0.9999 | 0.0001 |\n",
      "\n",
      "| Transitions   |    F |    L |\n",
      "|---------------|------|------|\n",
      "| F             | 0.95 | 0.05 |\n",
      "| L             | 0.05 | 0.95 |\n",
      "\n",
      "| Emissions   |        1 |        2 |        3 |        4 |        5 |        6 |\n",
      "|-------------|----------|----------|----------|----------|----------|----------|\n",
      "| F           | 0.166667 | 0.166667 | 0.166667 | 0.166667 | 0.166667 | 0.166667 |\n",
      "| L           | 0.12     | 0.12     | 0.12     | 0.12     | 0.12     | 0.4      |\n",
      "\n",
      "Run 1 Probability: -9714.920318254792\n",
      "Run 2 Probability: -9019.840906483256\n",
      "Run 3 Probability: -8884.103759877164\n",
      "Run 4 Probability: -8820.800068208806\n",
      "Run 5 Probability: -8810.965491632382\n",
      "Run 6 Probability: -8802.896008039013\n",
      "Run 7 Probability: -8794.294434078467\n",
      "Run 8 Probability: -8783.806480518755\n",
      "Run 9 Probability: -8777.851586866054\n",
      "Run 10 Probability: -8777.835811070765\n",
      "Run 11 Probability: -8777.835811070765\n",
      "Converged after 11 Runs\n",
      "\n",
      "Estimated: \n",
      "| Transitions   |      F |      L |\n",
      "|---------------|--------|--------|\n",
      "| Begin         | 0.9999 | 0.0001 |\n",
      "\n",
      "| Transitions   |          F |           L |\n",
      "|---------------|------------|-------------|\n",
      "| F             | 0.999787   | 0.000212766 |\n",
      "| L             | 0.00334448 | 0.996656    |\n",
      "\n",
      "| Emissions   |        1 |        2 |        3 |        4 |        5 |        6 |\n",
      "|-------------|----------|----------|----------|----------|----------|----------|\n",
      "| F           | 0.150394 | 0.155924 | 0.138694 | 0.135078 | 0.154648 | 0.265263 |\n",
      "| L           | 0.143813 | 0.123746 | 0.09699  | 0.143813 | 0.09699  | 0.394649 |\n",
      "\n"
     ]
    }
   ],
   "source": [
    "#zadajemo prvi model sljedećim parametrima\n",
    "initial_state_probability = [0.9999, 0.0001]\n",
    "transition_matrix = [[0.95, 0.05],\\\n",
    "                        [0.05, 0.95]]\n",
    "emission_matrix = [[1/6, 1/6, 1/6, 1/6, 1/6, 1/6],\\\n",
    "                      [0.12, 0.12, 0.12, 0.12, 0.12, 0.4]]\n",
    "state_space=['F','L']\n",
    "observation_space=['1', '2', '3', '4', '5', '6']\n",
    "print(\"Truth:\")\n",
    "pretty_print(initial_state_probability, transition_matrix, emission_matrix, state_space, observation_space)\n",
    "\n",
    "#za taj prvi model generiramo niz, i) dio zadatka\n",
    "#ova funkcija mi vraca prava stanja(jesam li u fair ili loaded kocki)\n",
    "#također vraća niz dobivenih brojeva\n",
    "true_state, dice_rolls = generate_observations(initial_state_probability, transition_matrix, emission_matrix,\n",
    "                                        num_samples=5000, #radim za 5000 jer mi je tak brže\n",
    "                                        state_space=state_space,\n",
    "                                        observation_space=observation_space,\n",
    "                                        seed=515)\n",
    "\n",
    "#mogu ispisati ovdje\n",
    "#print(\"Simulirani niz\", \"\".join([str(int) for int in dice_rolls]))\n",
    "\n",
    "\n",
    "# ii) uzimam drugi model, razlicit ali ne jako razlicit \n",
    "estimated_transition_matrix = [[0.80, 0.20],\\\n",
    "                                [0.20, 0.80]]\n",
    "estimated_emission_matrix = [[1/6, 1/6, 1/6, 1/6, 1/6, 1/6],\\\n",
    "                                 [0.1, 0.1, 0.1, 0.1, 0.1, 0.5]]\n",
    "\n",
    "#ovdje procijenim parametre tranzicijske i empirijske matrice \n",
    "estimated_transition_matrix, estimated_emission_matrix = \\\n",
    "    runLoop(initial_state_probability, estimated_transition_matrix, estimated_emission_matrix, \n",
    "            dice_rolls,\n",
    "            state_space=state_space,\n",
    "            observation_space=observation_space,\n",
    "            runs=15)\n",
    "\n",
    "print(\"\\nEstimated: \")\n",
    "pretty_print(initial_state_probability, estimated_transition_matrix, estimated_emission_matrix, state_space, observation_space)"
   ]
  }
 ],
 "metadata": {
  "interpreter": {
   "hash": "eeb592eeb14baf80ba7e3ad598b9cc718d92fa62785d72005ca19f7c0e0c833d"
  },
  "kernelspec": {
   "display_name": "Python 3",
   "language": "python",
   "name": "python3"
  },
  "language_info": {
   "codemirror_mode": {
    "name": "ipython",
    "version": 3
   },
   "file_extension": ".py",
   "mimetype": "text/x-python",
   "name": "python",
   "nbconvert_exporter": "python",
   "pygments_lexer": "ipython3",
   "version": "3.8.5"
  }
 },
 "nbformat": 4,
 "nbformat_minor": 2
}
