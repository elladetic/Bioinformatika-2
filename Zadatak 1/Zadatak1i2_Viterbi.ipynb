{
 "cells": [
  {
   "cell_type": "markdown",
   "metadata": {},
   "source": [
    "# PRVI ZADATAK - Viterbijev algoritam u log-spaceu"
   ]
  },
  {
   "cell_type": "markdown",
   "metadata": {},
   "source": [
    "Izradite Viterbijev algoritam (za povremeno nepoštenu kockarnicu) u log-space-u. Drugim riječima, umjesto s produktima (vjerojatnosti), baratat ćemo sa sumama (logaritama vjerojatnosti).\n",
    "Kod testirajte na nekom dovoljno dugačkom nizu (barem 1000 znakova).\n",
    "Parametre modela uzmite iz prethodnog zadatka o kockarnici."
   ]
  },
  {
   "cell_type": "markdown",
   "metadata": {},
   "source": [
    "### Običan Viterbi - Bioinformatika 1"
   ]
  },
  {
   "cell_type": "code",
   "execution_count": 1,
   "metadata": {},
   "outputs": [
    {
     "name": "stdout",
     "output_type": "stream",
     "text": [
      "FFFFFFLLLLLLFFFFFF\n"
     ]
    }
   ],
   "source": [
    "x = '123455666666123452'\n",
    "\n",
    "#retci emisijske matrice\n",
    "F = [ 1.0/6.0, 1.0/6.0, 1.0/6.0, 1.0/6.0, 1.0/6.0, 1.0/6.0 ] #FAIR\n",
    "L = [ 1.0/10.0, 1.0/10.0, 1.0/10.0, 1.0/10.0, 1.0/10.0, 1.0/2.0] #LOADED\n",
    "\n",
    "#elementi tranzicijske matrice\n",
    "cl = 0.9 \n",
    "dl = 0.1\n",
    "cf = 0.8\n",
    "df = 0.2\n",
    "\n",
    "tmp = []\n",
    "V = []\n",
    "for i in range(len(x)):\n",
    "    tmp.append(0) #array koji sadrži nule, iste duljine kao i x\n",
    "\n",
    "for i in range(2):\n",
    "    V.append(tmp[:]) #prazna matrica 2 puta duljina od x\n",
    "\n",
    "\n",
    "k = int(x[0]) - 1 #wtf\n",
    "\n",
    "V[0][0] = F[k]\n",
    "V[1][0] = L[k]\n",
    "\n",
    "\n",
    "#rekurzivno računamo V\n",
    "for i in range( 1,  len( x ) ):\n",
    "    tmp = []\n",
    "    k = int(x[i]) - 1\n",
    "    tmp.append(V[0][i-1]*F[k]*cl)\n",
    "    tmp.append(V[1][i-1]*F[k]*df)\n",
    "    tmp.sort()\n",
    "    V[0][i] = tmp[1]\n",
    "    tmp = []\n",
    "    tmp.append(V[1][i-1]*L[k]*cf)\n",
    "    tmp.append(V[0][i-1]*L[k]*dl)\n",
    "    tmp.sort()\n",
    "    V[1][i] = tmp[1]    \n",
    "\n",
    "\n",
    "\n",
    "if V[0][len(V[0])-1] > V[1][len(V[1])-1]:\n",
    "    l = 0\n",
    "else:\n",
    "    l = 1\n",
    "\n",
    "\n",
    "le = len(V[0]) - 1\n",
    "put = '' \n",
    "\n",
    "while le > 0 or le == 0:\n",
    "    k = int(x[le])-1\n",
    "    if le == 0:\n",
    "        if l == 1:\n",
    "            put = 'L' + put  \n",
    "            le = le - 1\n",
    "        elif l == 0:\n",
    "            put = 'F' + put \n",
    "            le = le - 1\n",
    "    elif l == 0:\n",
    "        if (( V[l][le]/( V[l+1][le-1]*(F[k]*df) ) ) > 0.99999999999 and ( V[l][le]/( V[l+1][le-1]*(F[k]*df) ) )<=1.0000000000000003 ):\n",
    "            put = 'F' + put \n",
    "            le = le - 1\n",
    "            l = l + 1\n",
    "        elif ( ( V[l][le]/( V[l][le-1]*(F[k]*cl) ) ) > 0.9999999999 and ( V[l][le]/( V[l][le-1]*(F[k]*cl) ) )<=1.0000000000000003 ):\n",
    "            put = 'F' + put\n",
    "            le = le - 1\n",
    "    elif l == 1:\n",
    "        if ( ( V[l][le]/( V[l-1][le-1]*(L[k]*dl) ) ) > 0.99999999999 and ( V[l][le]/( V[l-1][le-1]*(L[k]*dl) ) )<=1.0000000000000003 ):\n",
    "            put = 'L' + put  \n",
    "            le = le - 1\n",
    "            l = l - 1\n",
    "        elif ( ( V[l][le]/( V[l][le-1]*(L[k]*cf) ) ) > 0.999999999 and ( V[l][le]/( V[l][le-1]*(L[k]*cf) ) )<=1.0000000000000003 ):\n",
    "            put = 'L' + put\n",
    "            le = le - 1        \n",
    "print(put)   "
   ]
  },
  {
   "cell_type": "markdown",
   "metadata": {},
   "source": [
    "### Log-space"
   ]
  },
  {
   "cell_type": "markdown",
   "metadata": {},
   "source": [
    "Generiramo random uzorak od 1000 brojeva.\n",
    "Ne uzimamo uniformnu distribuciju jer će nam tada ispasti da se uvijek nalazimo u _fair_ kockici, pa simuliramo uzorak s _wighted_ parametrima (sami odabiremo parametre)."
   ]
  },
  {
   "cell_type": "code",
   "execution_count": 22,
   "metadata": {},
   "outputs": [
    {
     "data": {
      "text/plain": [
       "'4254131636634655663121531565646611325355456463665231636622121211615361616365524266662664652363316654333163662226616621116163636255564662653151525431363615662633264411426213666662646663151243453466164265642465434153564662615336432532446562343646641566541653354166566162256364615166663225616664253661615656166642662623665514136146161635446414161462665614436335352633416166253662146666325266646655644136625426241135243265426611664141136524643153666166561264453261163624621346666362261366616164162336352623136616226316353663545436646162266426463161366412623335532323264126361464335356436325663622245146354622461516524666264616666665662365236225646652153666161633412656453146664514621365361461643366661666266222615626155333436564414616666646666646564661666314463616442444166666613466564541666462555416153666613666116651642614564266562666523133566526412515266256533266326666566666666663436366631526626666445532656316646464666662566134566145362566613546335646536325253646163126443644461646461562565265525162'"
      ]
     },
     "execution_count": 22,
     "metadata": {},
     "output_type": "execute_result"
    }
   ],
   "source": [
    "import random\n",
    "randomlist = random.choices(['1','2','3','4','5','6'], [0.1,0.1,0.1,0.1,0.1,0.3], k=1000)\n",
    "new_x = \"\".join([str(int) for int in randomlist])\n",
    "new_x"
   ]
  },
  {
   "cell_type": "markdown",
   "metadata": {},
   "source": [
    "Matricu $V$ računamo rekurzivno prema formuli:\n",
    "$$V_k(i)=e_k(i)\\max_{j\\in\\{0,1\\}} \\left(a_{jk}V_j(i-1)\\right)\\to \\boxed{\\ln V_k(i)=\\ln e_k(i)+ \\max_{j\\in\\{0,1\\}} \\left(\\ln a_{jk}+ \\ln V_j(i-1)\\right)}$$\n",
    "gdje je $j,k\\in\\{0,1\\}$, $a_{00}=cl$, $a_{01}=dl$, $a_{10}=df$ i $a_{11}=cf$, dok je $i$ broj koji smo dobili u tom bacanju."
   ]
  },
  {
   "cell_type": "markdown",
   "metadata": {},
   "source": [
    "Treba paziti da ne logaritmiramo više puta."
   ]
  },
  {
   "cell_type": "code",
   "execution_count": 26,
   "metadata": {},
   "outputs": [
    {
     "name": "stdout",
     "output_type": "stream",
     "text": [
      "1000\n",
      "FFFFFFFFFFFFFFFFFFFFFFFFFFFFFFFFFFFFFFFFFFFFFFFFFFFFFFFFFFFFFFFFFFFFFFFFFFFFFFFFLLLLLLLLLFFFFFFFFFFFFFFFLLLLLLLLLLLLFFFFFFFFFFFFFFFFFFFFFFFFFFFFFFFFFFFFFFFFFFFFFFFFFFFFFFFFLLLLLLLLLLLFFFFFFFFFFFFFFFFFFFFFFFFFFFFFFFFFFFFFFFFFFFFFFFFFFFFFFFFFFFFFFFFFFFFFFFFFFFFFLLLLLLLLLLLLLLLLLLLLLLLLLLLLLLLLLLLLLLLLLLLLLLLLLLLLLLLLLLFFFFFFFFFFFFFFFFFFFFFFFFFFFFFFFFFFFFFFFFFFFFFFFFLLLLLLLLLLLLLLLLLLLLLLLLLLFFFFFFFFFFFFFFFFFFFFFFFFFFFFFFFFFFFFFFFFFFFFFFFFFFLLLLLLLLFFFFFFFFFFFFFFFFFFFFFLLLLLLLLLLLLLLLLLLFFFFFFFFFFFFFFFFFFFFFFFFFFFFFFFFFFFFLLLLLLLLLLLLLLLLLLLLLLFFFFFFFFFFFFFFFFFFFFFFFFFFFFFFFFFFFFFFFFFFFFFFFFFFFFFFFFFFFFFFFFFFLLLLLLLLLLLLLLLLLFFFFFFFFFFFFFFFFFFFLLLLLLLFFFFFFFFFFFFFFFFFFFFFFFFFFFFFFFFFFFFLLLLLLLLLLLFFFFFFFFFFFFFFFFFFFFFFFFLLLLLLLLLLLLLLLLLLLLLLLLFFFFFFFFFFFFFFFFLLLLLLLLLLLLLLLLLLLLLLFFFFFFFFFFLLLLLLLLLLLLLLLLLLLLLLLLLLLLLLLLLFFFFFFFFFFFFFFFFFFFFFFFFFFFFLLLLLLLLLLLLLLLLLLLLLLLLLLLLLLLLLLLLLLFFFFFFLLLLLLLLLLLLLLLLLLLLLFFFFFFFFFFFFFFFFFFFFFFFFFFFFFFFFFFFFFFFFFFFFFFFFFFFFFFFFFFFFFFFFFFFFFFFFFFF\n"
     ]
    }
   ],
   "source": [
    "x = new_x\n",
    "\n",
    "#retci emisijske matrice\n",
    "F = np.log10([ 1.0/6.0, 1.0/6.0, 1.0/6.0, 1.0/6.0, 1.0/6.0, 1.0/6.0 ]) #FAIR\n",
    "L = np.log10([ 1.0/10.0, 1.0/10.0, 1.0/10.0, 1.0/10.0, 1.0/10.0, 1.0/2.0]) #LOADED\n",
    "\n",
    "#elementi tranzicijske matrice\n",
    "cl = np.log10(0.9)\n",
    "dl = np.log10(0.1)\n",
    "cf = np.log10(0.8)\n",
    "df = np.log10(0.2)\n",
    "\n",
    "\n",
    "#REKURZIVNO GENERIRANJE MATRICE V\n",
    "\n",
    "tmp = []\n",
    "V = []\n",
    "for i in range(len(x)):\n",
    "    tmp.append(0) #array koji sadrži nule, iste duljine kao i x\n",
    "\n",
    "for i in range(2):\n",
    "    V.append(tmp[:]) #prazna matrica 2 puta duljina od x\n",
    "\n",
    "\n",
    "k = int(x[0]) - 1 \n",
    "#indeks koji mi je potreban za dohvaćanje vjerojatnosti u emisijskoj matrici\n",
    "\n",
    "\n",
    "V[0][0] = F[k] #vjerojatnost da je pao prvi broj (iz generiranog niza) ako sam u fair kockici\n",
    "V[1][0] = L[k] #vjerojatnost da je pao prvi broj (iz generiranog niza) ako sam u floaded kockici\n",
    "\n",
    "\n",
    "#rekurzivno računamo V pomoću gore navedene formule\n",
    "for i in range(1,  len(x)):\n",
    "    tmp = []                         #privremena lista\n",
    "    k = int(x[i]) - 1                #dohvaćam indeks broja koji je pao u i-tom bacanju\n",
    "    tmp.append(V[0][i-1]+F[k]+cl)    #appendam privremenu listu: log-vjer. ako smo u prošlom bili u F\n",
    "                                                                # + log-vjer. da je pao broj (k+1) u F kocki\n",
    "                                                                # + log-vjer. da cu ostat u L kocki?\n",
    "    tmp.append(V[1][i-1]+F[k]+df)    #appendam privremenu listu: log-vjer. ako smo u prošlom bili u L\n",
    "                                                                # + log-vjer. da je pao broj (k+1) u F kocki\n",
    "                                                                # + log-vjer. da cu preći iz F u L?\n",
    "    tmp.sort()                       #sortiram privremenu listu\n",
    "    V[0][i] = tmp[1]                 #biram prvi element (maksimalni) od ta dva\n",
    "    \n",
    "    #ponavljam postupak od gore\n",
    "    tmp = []\n",
    "    tmp.append(V[1][i-1]+L[k]+cf)\n",
    "    tmp.append(V[0][i-1]+L[k]+dl)\n",
    "    tmp.sort()\n",
    "    V[1][i] = tmp[1]    \n",
    "\n",
    "\n",
    "    \n",
    "#TRACEBACK\n",
    "    \n",
    "    \n",
    "#ako mi je zadnja log-vjer. u matrici V veća u prvom redu (fair), postavi zastavicu na nula, inače 1\n",
    "if V[0][len(V[0])-1] > V[1][len(V[1])-1]:\n",
    "    l = 0\n",
    "else:\n",
    "    l = 1\n",
    "\n",
    "\n",
    "le = len(V[0]) - 1    #duljina \"preostalog tracebacka\"\n",
    "put = ''              #spremanje optimalnog puta\n",
    "\n",
    "while le > 0 or le == 0:\n",
    "    k = int(x[le])-1              #dohvaćam indeks(potrebno za emisijsku matricu)\n",
    "    \n",
    "    \n",
    "    if le == 0:                   #slučaj kada dođemo do zadnjeg elementa\n",
    "        if l == 1:                #bili smo u loaded kockici\n",
    "            put = 'L' + put  \n",
    "            le = le - 1\n",
    "        elif l == 0:              #inače smo bili u fair kockici\n",
    "            put = 'F' + put \n",
    "            le = le - 1\n",
    "          \n",
    "        \n",
    "    elif l == 0:                  #s ovim cudnim nejednakostima provjeravam jednakost? Greška je zaokruživanje?\n",
    "                                  #sigurno ću dodati F u put jer l=0\n",
    "                                  #provjeravam hoću li ostati u F ili prelazim u L (traceback po formuli)\n",
    "        if (( V[l][le]/( V[l+1][le-1]+(F[k]+df) ) ) > 0.99999999999 and ( V[l][le]/( V[l+1][le-1]+(F[k]+df) ) )<=1.0000000000000003 ):\n",
    "            put = 'F' + put \n",
    "            le = le - 1\n",
    "            l = l + 1\n",
    "                                  #po formuli zbog df, znači da je ovo stanje proizašlo iz loaded kockice (l postaje 1)\n",
    "                                  #iz L u F\n",
    "                                  #analogno slijedi za ostale slučajeve\n",
    "        elif ( ( V[l][le]/( V[l][le-1]+(F[k]+cl) ) ) > 0.9999999999 and ( V[l][le]/( V[l][le-1]+(F[k]+cl) ) )<=1.0000000000000003 ):\n",
    "            put = 'F' + put\n",
    "            le = le - 1\n",
    "     \n",
    "    \n",
    "    \n",
    "    elif l == 1:\n",
    "        if ( ( V[l][le]/( V[l-1][le-1]+(L[k]+dl) ) ) > 0.99999999999 and ( V[l][le]/( V[l-1][le-1]+(L[k]+dl) ) )<=1.0000000000000003 ):\n",
    "            put = 'L' + put  \n",
    "            le = le - 1\n",
    "            l = l - 1\n",
    "        elif ( ( V[l][le]/( V[l][le-1]+(L[k]+cf) ) ) > 0.999999999 and ( V[l][le]/( V[l][le-1]+(L[k]+cf) ) )<=1.0000000000000003 ):\n",
    "            put = 'L' + put\n",
    "            le = le - 1        \n",
    "print(put)   "
   ]
  },
  {
   "cell_type": "markdown",
   "metadata": {},
   "source": [
    "Zadatak 2: u narednim zadacima cemo se baviti optimizacijom modela, bolje receno, optimizacijom parametara modela; ako imamo kockarnicu sa samo jednom kockom i dani niz - oznacimo ga sa D (data) - onda je jasno koji su parametri θ\n",
    "θkoji maksimiziraju vjerodostojnost podataka, tj.\n",
    "\n",
    "(dokazite, tj. pronadjite dokaz); no, ako se nas model sastoji od barem dvije kocke, ne postoji zatvorena formula kojom bismo odredili optimalne parametre; zbog toga se sluzimo raznim aproksimacijama i/ili iterativnim procedurama da \"pronadjemo\" optimalne parametre; u ovom cemo zadatku napraviti dio koraka za iterativnu/aproksimativnu optimizaciju parametara modela (pomocu Viterbijevog algoritma); dakle, zadatak je:\n",
    "\n",
    "i) simulirati dugacak niz (5000 ili 10000 znakova, recimo) iz nekog modela (s dvije kocke)\n",
    "\n",
    "ii) za neki model, s nekim drugim parametrima (razlicitim, ali ne jako razlicitim), pronaci optimalan put/prolaz niza kroz model\n",
    "\n",
    "iii) za tako dobiveni prolaz, odrediti emisijske i tranzicijske frekvencije (npr. kocka 1 je znak 1 emitirala 891 put, znak 2 902 puta, itd...., analogno za tranzicije); nakon normalizacije (tako da se odgovarajuci parametri sumiraju na 1), imate \"nove\" parametre modela\n",
    "\n",
    "iv) provjerite koliko su vam tako dobiveni \"novi\" parametri slicni pocetnima (onima iz kojih ste simulirali)"
   ]
  },
  {
   "cell_type": "code",
   "execution_count": null,
   "metadata": {},
   "outputs": [],
   "source": []
  }
 ],
 "metadata": {
  "interpreter": {
   "hash": "eeb592eeb14baf80ba7e3ad598b9cc718d92fa62785d72005ca19f7c0e0c833d"
  },
  "kernelspec": {
   "display_name": "Python 3",
   "language": "python",
   "name": "python3"
  },
  "language_info": {
   "codemirror_mode": {
    "name": "ipython",
    "version": 3
   },
   "file_extension": ".py",
   "mimetype": "text/x-python",
   "name": "python",
   "nbconvert_exporter": "python",
   "pygments_lexer": "ipython3",
   "version": "3.8.5"
  }
 },
 "nbformat": 4,
 "nbformat_minor": 2
}
