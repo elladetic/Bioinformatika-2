{
 "cells": [
  {
   "cell_type": "markdown",
   "metadata": {},
   "source": [
    "# PRVI ZADATAK - Viterbijev algoritam u log-spaceu"
   ]
  },
  {
   "cell_type": "markdown",
   "metadata": {},
   "source": [
    "Izradite Viterbijev algoritam (za povremeno nepoštenu kockarnicu) u log-space-u. Drugim riječima, umjesto s produktima (vjerojatnosti), baratat ćemo sa sumama (logaritama vjerojatnosti).\n",
    "Kod testirajte na nekom dovoljno dugačkom nizu (barem 1000 znakova).\n",
    "Parametre modela uzmite iz prethodnog zadatka o kockarnici."
   ]
  },
  {
   "cell_type": "code",
   "execution_count": 3,
   "metadata": {},
   "outputs": [],
   "source": [
    "import random\n",
    "import numpy as np\n",
    "#import os\n",
    "import numpy as np\n",
    "#import ViterbiAlgorithm\n",
    "#from tabulate import tabulate\n",
    "from generate_observations import generate_observations\n",
    "#from generate_observations import print_result\n",
    "from estimate_based_on_observation import pretty_print\n",
    "#from estimate_based_on_observation import updateMatricesAfterRun\n",
    "from estimate_based_on_observation import runLoop"
   ]
  },
  {
   "cell_type": "markdown",
   "metadata": {},
   "source": [
    "Generiramo random uzorak od 1000 brojeva.\n",
    "Ne uzimamo uniformnu distribuciju jer će nam tada ispasti da se uvijek nalazimo u _fair_ kockici, pa simuliramo uzorak s _wighted_ parametrima (sami odabiremo parametre)."
   ]
  },
  {
   "cell_type": "code",
   "execution_count": 4,
   "metadata": {},
   "outputs": [],
   "source": [
    "randomlist = random.choices(['1','2','3','4','5','6'], [0.1,0.1,0.1,0.1,0.1,0.3], k = 1000)\n",
    "x = \"\".join([str(int) for int in randomlist])"
   ]
  },
  {
   "cell_type": "markdown",
   "metadata": {},
   "source": [
    "Matricu $V$ računamo rekurzivno prema formuli:\n",
    "$$V_k(i)=e_k(i)\\max_{j\\in\\{0,1\\}} \\left(a_{jk}V_j(i-1)\\right)\\to \\boxed{\\ln V_k(i)=\\ln e_k(i)+ \\max_{j\\in\\{0,1\\}} \\left(\\ln a_{jk}+ \\ln V_j(i-1)\\right)}$$\n",
    "gdje je $j,k\\in\\{0,1\\}$, $a_{00}=cl$, $a_{01}=dl$, $a_{10}=df$ i $a_{11}=cf$, dok je $i$ broj koji smo dobili u tom bacanju."
   ]
  },
  {
   "cell_type": "markdown",
   "metadata": {},
   "source": [
    "Treba paziti da ne logaritmiramo više puta."
   ]
  },
  {
   "cell_type": "code",
   "execution_count": 8,
   "metadata": {},
   "outputs": [],
   "source": [
    "def new_viterbi(F,L,cl,dl,cf,df):\n",
    "    tmp = []\n",
    "    V = []\n",
    "    for i in range(len(x)):\n",
    "        tmp.append(0) #array koji sadrži nule, iste duljine kao i x\n",
    "\n",
    "    for i in range(2):\n",
    "        V.append(tmp[:]) #prazna matrica 2 puta duljina od x\n",
    "\n",
    "\n",
    "    k = int(x[0]) - 1 \n",
    "\n",
    "\n",
    "    V[0][0] = F[k] #vjerojatnost da je pao prvi broj (iz generiranog niza) ako sam u fair kockici\n",
    "    V[1][0] = L[k] #vjerojatnost da je pao prvi broj (iz generiranog niza) ako sam u floaded kockici\n",
    "\n",
    "\n",
    "#rekurzivno računamo V pomoću gore navedene formule\n",
    "    for i in range(1,  len(x)):\n",
    "        tmp = []                         #privremena lista\n",
    "        k = int(x[i]) - 1                #dohvaćam indeks broja koji je pao u i-tom bacanju\n",
    "        tmp.append(V[0][i-1]+F[k]+cl)    #appendam privremenu listu: log-vjer. ako smo u prošlom bili u F\n",
    "                                                                # + log-vjer. da je pao broj (k+1) u F kocki\n",
    "                                                                # + log-vjer. da cu ostat u L kocki?\n",
    "        tmp.append(V[1][i-1]+F[k]+df)    #appendam privremenu listu: log-vjer. ako smo u prošlom bili u L\n",
    "                                                                # + log-vjer. da je pao broj (k+1) u F kocki\n",
    "                                                                # + log-vjer. da cu preći iz F u L?\n",
    "        tmp.sort()                       #sortiram privremenu listu\n",
    "        V[0][i] = tmp[1]                 #biram prvi element (maksimalni) od ta dva\n",
    "    \n",
    "    #ponavljam postupak od gore\n",
    "        tmp = []\n",
    "        tmp.append(V[1][i-1]+L[k]+cf)\n",
    "        tmp.append(V[0][i-1]+L[k]+dl)\n",
    "        tmp.sort()\n",
    "        V[1][i] = tmp[1]    \n",
    "    \n",
    "    \n",
    "#ako mi je zadnja log-vjer. u matrici V veća u prvom redu (fair), postavi zastavicu na nula, inače 1\n",
    "    if V[0][len(V[0])-1] > V[1][len(V[1])-1]:\n",
    "        l = 0\n",
    "    else:\n",
    "        l = 1\n",
    "\n",
    "\n",
    "    le = len(V[0]) - 1    #duljina \"preostalog tracebacka\"\n",
    "    put = ''              #spremanje optimalnog puta\n",
    "\n",
    "    while le >= 0:\n",
    "        \n",
    "        k = int(x[le])-1              #dohvaćam indeks(potrebno za emisijsku matricu)\n",
    "        \n",
    "        if le == 0:                   #slučaj kada dođemo do zadnjeg elementa\n",
    "            if l == 1:                #bili smo u loaded kockici\n",
    "                put = 'L' + put  \n",
    "                le = le - 1\n",
    "            elif l == 0:              #inače smo bili u fair kockici\n",
    "                put = 'F' + put \n",
    "                le = le - 1\n",
    "          \n",
    "        elif l == 0:            #s ovim cudnim nejednakostima provjeravam jednakost? Greška je zaokruživanje?\n",
    "                                #sigurno ću dodati F u put jer l=0\n",
    "                                #provjeravam hoću li ostati u F ili prelazim u L (traceback po formuli)\n",
    "            if (( V[l][le]/( V[l+1][le-1]+(F[k]+df) ) ) > 0.99999999999 and ( V[l][le]/( V[l+1][le-1]+(F[k]+df) ) )<=1.0000000000000003 ):\n",
    "                put = 'F' + put \n",
    "                le = le - 1\n",
    "                l = l + 1\n",
    "                                  #po formuli zbog df, znači da je ovo stanje proizašlo iz loaded kockice (l postaje 1)\n",
    "                                  #iz L u F\n",
    "                                  #analogno slijedi za ostale slučajeve\n",
    "            elif ( ( V[l][le]/( V[l][le-1]+(F[k]+cl) ) ) > 0.9999999999 and ( V[l][le]/( V[l][le-1]+(F[k]+cl) ) )<=1.0000000000000003 ):\n",
    "                put = 'F' + put\n",
    "                le = le - 1\n",
    "    \n",
    "        elif l == 1:\n",
    "            \n",
    "            if ( ( V[l][le]/( V[l-1][le-1]+(L[k]+dl) ) ) > 0.99999999999 and ( V[l][le]/( V[l-1][le-1]+(L[k]+dl) ) )<=1.0000000000000003 ):\n",
    "                put = 'L' + put  \n",
    "                le = le - 1\n",
    "                l = l - 1\n",
    "                \n",
    "            elif ( ( V[l][le]/( V[l][le-1]+(L[k]+cf) ) ) > 0.999999999 and ( V[l][le]/( V[l][le-1]+(L[k]+cf) ) )<=1.0000000000000003 ):\n",
    "                put = 'L' + put\n",
    "                le = le - 1        \n",
    "    return(put)   \n",
    "    "
   ]
  },
  {
   "cell_type": "code",
   "execution_count": 11,
   "metadata": {},
   "outputs": [
    {
     "data": {
      "text/plain": [
       "'FFFFFFFFFFFFFFFFFFFFFFFFFFFFFFFFFFFFLLLLLLLLLLLLLLLLLLLLLLLLLLLLFFFFFFFFFFFFFFFFFFFFFFFFFFFFFFFFFFFFFFFFFFFFFFLLLLLLLLLLLFFFFFFFFFFFFFFFFFFFFFFFFFFLLLLLLLLLLLLLLLLLLLLLLLLLLLLLLLLLLLLLLLLLLLLLLLLLLLLLLLFFFFFFFFFFFFFFFFFFFFFFFFFFFFFFFFFFFFFFFFFFFFFFFFFFFFFFFFFFFFFFFFFFFFFFFFFFFFFFFFFFFFFFFFFFFFFFFFFFFFFFLLLLLLLLLLLLFFFFFFFLLLLLLLLLLLLLLLLLLLLLLLLLLLLLLLLLLFFFFFFFFFFFFFFFFFFFFFFFFFFFFFFFFFFFFFFFFFFFFFFFFFFFFFFFFFFFFFFLLLLLLLLLFFFFFFFFFFFFFFFFFFFFFFFFFFFFFFFFFFFFFFFFFFFFFFFFFFFFFFFFFLLLLLLLLLLLLLLLLLLLLLFFFFFFFFFFFFLLLLLLLLLLLLLLLLLLLLLLFFFFFFFFFFFFFFFFFFFFFFFFFFFFFLLLLLLLLLLLLLLLLLLLLLLLLLLLLLLLLLLLLLLLLLLLLLLLLLLLLLLLLLLLLLLFFFFFFFFFFFFFFFFFFFFFFFFFFFFFFFFFFFFFFFFFFFFLLLLLLLLLLLLLLLLLLLLLLLFFFFFFFFFFFFFFFFFFFFFFFFFFFFFLLLLLLLLLLLLLLLLLLLLLLLLLLLLLLLLLLLLLLLLLLLLLLLLLLLLLLLLLLLLLLFFFFFFFFFFFFFFFLLLLLLLLLLLLLLLLLLLLLFFFFFFFFFFFLLLLFFFFFFFFFFFFFFFFFFFLLLLLLLLLLLLLLFFFFFFFFFFFLLLLLLLLLLLLLLLLLLLLLLLLLLLLLLLLLLLLLLFFFFFFFFFFFFFFFFFFFFLLLLLLLFFFFFFFFFFFFFFLLLLLLLLLLLLLLLLLLLLLLLLLLLLLLLLLLLLL'"
      ]
     },
     "execution_count": 11,
     "metadata": {},
     "output_type": "execute_result"
    }
   ],
   "source": [
    "#emisijska matrica\n",
    "F = np.log10([ 1.0/6.0, 1.0/6.0, 1.0/6.0, 1.0/6.0, 1.0/6.0, 1.0/6.0 ]) #FAIR\n",
    "L = np.log10([ 1.0/10.0, 1.0/10.0, 1.0/10.0, 1.0/10.0, 1.0/10.0, 1.0/2.0]) #LOADED\n",
    "\n",
    "#tranzicijska matrica\n",
    "cl = np.log10(0.9)\n",
    "dl = np.log10(0.1)\n",
    "cf = np.log10(0.8)\n",
    "df = np.log10(0.2)\n",
    "\n",
    "new_viterbi(F,L,cl,dl,cf,df)"
   ]
  },
  {
   "cell_type": "markdown",
   "metadata": {},
   "source": [
    "## Zadatak 2"
   ]
  },
  {
   "cell_type": "markdown",
   "metadata": {},
   "source": [
    "U narednim zadacima cemo se baviti optimizacijom modela, bolje receno, optimizacijom parametara modela; ako imamo kockarnicu sa samo jednom kockom i dani niz - oznacimo ga sa D (data) - onda je jasno koji su parametri θ\n",
    "θkoji maksimiziraju vjerodostojnost podataka, tj.\n",
    "\n",
    "(dokazite, tj. pronadjite dokaz); no, ako se nas model sastoji od barem dvije kocke, ne postoji zatvorena formula kojom bismo odredili optimalne parametre; zbog toga se sluzimo raznim aproksimacijama i/ili iterativnim procedurama da \"pronadjemo\" optimalne parametre; u ovom cemo zadatku napraviti dio koraka za iterativnu/aproksimativnu optimizaciju parametara modela (pomocu Viterbijevog algoritma); dakle, zadatak je:\n",
    "\n",
    "i) simulirati dugacak niz (5000 ili 10000 znakova, recimo) iz nekog modela (s dvije kocke)\n",
    "\n",
    "ii) za neki model, s nekim drugim parametrima (razlicitim, ali ne jako razlicitim), pronaci optimalan put/prolaz niza kroz model\n",
    "\n",
    "iii) za tako dobiveni prolaz, odrediti emisijske i tranzicijske frekvencije (npr. kocka 1 je znak 1 emitirala 891 put, znak 2 902 puta, itd...., analogno za tranzicije); nakon normalizacije (tako da se odgovarajuci parametri sumiraju na 1), imate \"nove\" parametre modela\n",
    "\n",
    "iv) provjerite koliko su vam tako dobiveni \"novi\" parametri slicni pocetnima (onima iz kojih ste simulirali)"
   ]
  },
  {
   "cell_type": "code",
   "execution_count": 4,
   "metadata": {},
   "outputs": [
    {
     "name": "stdout",
     "output_type": "stream",
     "text": [
      "Truth:\n",
      "| Transitions   |      F |      L |\n",
      "|---------------|--------|--------|\n",
      "| Begin         | 0.9999 | 0.0001 |\n",
      "\n",
      "| Transitions   |    F |    L |\n",
      "|---------------|------|------|\n",
      "| F             | 0.95 | 0.05 |\n",
      "| L             | 0.05 | 0.95 |\n",
      "\n",
      "| Emissions   |        1 |        2 |        3 |        4 |        5 |        6 |\n",
      "|-------------|----------|----------|----------|----------|----------|----------|\n",
      "| F           | 0.166667 | 0.166667 | 0.166667 | 0.166667 | 0.166667 | 0.166667 |\n",
      "| L           | 0.04     | 0.04     | 0.04     | 0.04     | 0.04     | 0.8      |\n",
      "\n",
      "Simulirani niz 45352112316426665641246662666666666666263646616666366666666643566666666166424212465121222422542254511532216165513131221635324556516361416525551233512656526462434366413166626666666662666666666146326666666366661666664115466266665666664161436664254562116666666666662646666566666641566666666666166543512144142531231356442313412456262666666565646666666664661666446414522165331666666166666666666666663664546356652666221353314366666664666666626616666666666666666666666413554422442666161535316633311622211231213211114115615535421463336331266466666666666666163666666621435663322325111411552253165153211511121166452453531326666666666666664626666565466566666662123316546164614256363332631234413166666666666664666143636551531266125661432146666626566636666266666666624422615623156621662666264342336564223441644261466666666662445311235615242454241366664222656216636666664666666666666223636666661616224165655514525632336643525566634666561666666561446666666652626666155146623466212561256536266666224646661443345314126323551163256531335116212415116314412366116566666666663566666236666166561213666666666462666666666116465626465224414133215111232553343663345435633344444445554554553335344113262263426526512466666666666666666346663662121535666634626666666616661626254126631622411614461356616661525366666666666666666666666662166316666666433463345251366561113626243166636666366366666623656616614266366646444666665666466166666666666662666446335243666666666642566566662666436653666626666666666666666465262666666366666666666666666614266636536566613666661521536135461615423252433663332462552342155235525332146565366622656266666662213142645541153213151151226665666656366615142125265666416333363552464315641246126242441146162456116325544651646655216454464551666666666666556646666663666636666666666666666366665466411662315313216664126545231443456664665666646664126661666166666666466532366631156642423663613566654221566445334265336443464446666666663626663233546156546666666666166626466666666666214361112332662636666664646566616346646464666354665124666556666566631261366666666626666666666253454615364461462366666663661616564656666231561453321661515325225624123445655542222332213425616613663226625154546641621214556152565342664515336666446612611566666565252322135532225144666666661366666463666666666166666666666666666664666666665666666666666662466616666666661666614456256166356663666661666664666666516636656432123123265255515665142165553635615446564525342516666622666666666236544613326323261663633426316125121666666166622666366656231435313635616666165466665666666663626666126643151615414456231256266154566666654626664166666612624636152312636515456654266662131242423444122346634242154116621551231422261555412532231625513232134633332354512654124234124443223315652225411364412355146324146346265362455226666666466666662456622161115552641131144566163626666662122543363442644615312124621356642365642642423114125462366666466662354623121265333326315211616666666666246645533641623245636665234225664665616311634552613454651654256425126664366626666666666663666564666666266466662666666666666666656666655666666642522336661126666646666666666666666566463626666642563354431511364561643665114411436646666421461366566664666244626666566566666666665666263461666666666646646665312424545264266666666666651655424151654346556526666666656166666666466166666666666626646661636566336652646346625516561664166666266611665142666366664166166661666666666666666666636666636545245433323545241433521231336232236655151153555616326615111566366656616666624612511622245325111424652324165622315165466433466655651553625561512246126163565623245211326616666264666636666466626666663662652645352323516666166626644366666666266666666652666661666346216666553245213321315331435641361262121262341152534335413122364632156666545212256231453436543626465423235526114413516612166666666646366666461136616146632216161631466631644312212456664666164665646666636666666146666626666666665665666665261241341636636636526123114322455442262524112545531666666646666646666612652325256435544454312223342122234656666662151514512666666166666666626163665166655666646666636622263162254241453333216263221316665662255545415351165154136666666666563254421251325134511533421646666663435144163516331166664666665516522626266625666653661363254654525162246666664633121564336466666366663653342563444666164656666656466666662666465664666666226666663536115462636626666665665626536346666666666516266124252222646364261116625356145633656624146316666666666665616261311526526621556545425563324643313555543235635613151451363345532334624633253445624366456662666666662646666644244156443636626466664364522541145163532414446625515213212615551423514365121511361344141125225626612313552115341564613626664361626666656666666666666566166666641624366436666665546625666566461665646633366566666666666646145416633666661133266153445322316433565546565355463315336612166666656664666654321164241224126445441352512612311145563115121155234635242566644666646666666266666616636643666666415566551546544566636666566666666663666664665666566636666216\n",
      "Run 1 Probability: -7877.564338434595\n",
      "Run 2 Probability: -7423.340470592319\n",
      "Run 3 Probability: -7399.330150519902\n",
      "Run 4 Probability: -7397.745582805961\n",
      "Run 5 Probability: -7397.506500833171\n",
      "Run 6 Probability: -7397.399941911456\n",
      "Run 7 Probability: -7397.357901042022\n",
      "Run 8 Probability: -7397.357901042022\n",
      "Converged after 8 Runs\n",
      "\n",
      "Estimated: \n",
      "| Transitions   |      F |      L |\n",
      "|---------------|--------|--------|\n",
      "| Begin         | 0.9999 | 0.0001 |\n",
      "\n",
      "| Transitions   |         F |         L |\n",
      "|---------------|-----------|-----------|\n",
      "| F             | 0.974399  | 0.0256012 |\n",
      "| L             | 0.0268484 | 0.973152  |\n",
      "\n",
      "| Emissions   |        1 |         2 |         3 |         4 |         5 |        6 |\n",
      "|-------------|----------|-----------|-----------|-----------|-----------|----------|\n",
      "| F           | 0.178045 | 0.171451  | 0.161753  | 0.154771  | 0.17533   | 0.15865  |\n",
      "| L           | 0.042114 | 0.0462428 | 0.0375723 | 0.0549133 | 0.0458299 | 0.773328 |\n",
      "\n"
     ]
    }
   ],
   "source": [
    "#zadajemo prvi model sljedećim parametrima\n",
    "initial_state_probability = [0.9999, 0.0001]\n",
    "transition_matrix = [[0.95, 0.05],\\\n",
    "                        [0.05, 0.95]]\n",
    "emission_matrix = [[1/6, 1/6, 1/6, 1/6, 1/6, 1/6],\\\n",
    "                      [0.04, 0.04, 0.04, 0.04, 0.04, 0.8]]\n",
    "state_space=['F','L']\n",
    "observation_space=['1', '2', '3', '4', '5', '6']\n",
    "print(\"Truth:\")\n",
    "pretty_print(initial_state_probability, transition_matrix, emission_matrix, state_space, observation_space)\n",
    "\n",
    "#za taj prvi model generiramo niz, i) dio zadatka\n",
    "true_state, dice_rolls = generate_observations(initial_state_probability, transition_matrix, emission_matrix,\n",
    "                                        num_samples=5000, #radim za 5000 jer mi je tak brže\n",
    "                                        state_space=state_space,\n",
    "                                        observation_space=observation_space,\n",
    "                                        seed=515)\n",
    "\n",
    "print(\"Simulirani niz\", \"\".join([str(int) for int in dice_rolls]))\n",
    "\n",
    "\n",
    "#uzimam drugi model, razlicit ali ne jako razlicit \n",
    "estimated_transition_matrix = [[0.95, 0.05],\\\n",
    "                                [0.10, 0.90]]\n",
    "estimated_emission_matrix = [[1/6, 1/6, 1/6, 1/6, 1/6, 1/6],\\\n",
    "                                 [0.1, 0.1, 0.1, 0.1, 0.1, 0.5]]\n",
    "\n",
    "#ovdje procijenim parametre tranzicijske i empirijske matrice \n",
    "estimated_transition_matrix, estimated_emission_matrix = \\\n",
    "    runLoop(initial_state_probability, estimated_transition_matrix, estimated_emission_matrix, \n",
    "            dice_rolls,\n",
    "            state_space=state_space,\n",
    "            observation_space=observation_space,\n",
    "            runs=15)\n",
    "\n",
    "print(\"\\nEstimated: \")\n",
    "pretty_print(initial_state_probability, estimated_transition_matrix, estimated_emission_matrix, state_space, observation_space)"
   ]
  },
  {
   "cell_type": "code",
   "execution_count": null,
   "metadata": {},
   "outputs": [],
   "source": []
  }
 ],
 "metadata": {
  "interpreter": {
   "hash": "eeb592eeb14baf80ba7e3ad598b9cc718d92fa62785d72005ca19f7c0e0c833d"
  },
  "kernelspec": {
   "display_name": "Python 3",
   "language": "python",
   "name": "python3"
  },
  "language_info": {
   "codemirror_mode": {
    "name": "ipython",
    "version": 3
   },
   "file_extension": ".py",
   "mimetype": "text/x-python",
   "name": "python",
   "nbconvert_exporter": "python",
   "pygments_lexer": "ipython3",
   "version": "3.8.5"
  }
 },
 "nbformat": 4,
 "nbformat_minor": 2
}
