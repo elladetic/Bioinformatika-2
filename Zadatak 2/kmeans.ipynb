{
 "cells": [
  {
   "cell_type": "markdown",
   "metadata": {},
   "source": [
    "#### Zadatak 2 - K means algoritam"
   ]
  },
  {
   "cell_type": "code",
   "execution_count": 72,
   "metadata": {},
   "outputs": [],
   "source": [
    "import random\n",
    "import math\n",
    "import matplotlib.pyplot as plt"
   ]
  },
  {
   "cell_type": "code",
   "execution_count": 2,
   "metadata": {},
   "outputs": [],
   "source": [
    "def sed(x,y): #vraća euklidsku duljinu između dva vektora u obliku lista\n",
    "    dist=0\n",
    "    for i in range(len(x)):\n",
    "        dist = dist + (x[i]-y[i])*(x[i]-y[i])\n",
    "    return dist"
   ]
  },
  {
   "cell_type": "code",
   "execution_count": 9,
   "metadata": {},
   "outputs": [],
   "source": [
    "def sad(x,y): #zbraja vektore po kordinatama\n",
    "        v=[]\n",
    "        for i in range(len(x)):\n",
    "                v.append(x[i]+y[i])\n",
    "        return v"
   ]
  },
  {
   "cell_type": "code",
   "execution_count": 97,
   "metadata": {},
   "outputs": [],
   "source": [
    "f1 = open(\"podaci005.txt\", \"r\")\n",
    "f2 = open(\"res005++.txt\", \"w\")\n",
    "\n",
    "noc = int(f1.readline()) #broj centra\n",
    "nopt = int(f1.readline()) #broj tocaka\n",
    "dimpt = int(f1.readline()) #dimenzija točaka\n",
    "\n",
    "noi=50 # broj iteracija, modificirati po potrebi\n",
    "x=[]\n",
    "\n",
    "#čitamo datoteku\n",
    "for i in range(nopt):\n",
    "    line=f1.readline() \n",
    "    vector=line.split() \n",
    "    x.append(vector) \n",
    "for i in range(nopt):\n",
    "        for j in range(dimpt):\n",
    "                x[i][j]=float(x[i][j])"
   ]
  },
  {
   "cell_type": "code",
   "execution_count": 98,
   "metadata": {},
   "outputs": [],
   "source": [
    "# inicijalizacija centara za k-means++\n",
    "def initialize(X, K):\n",
    "    C = [X[random.randint(0, nopt - 1)]]\n",
    "    for k in range(1, K):\n",
    "        #print(k)\n",
    "        D = []\n",
    "        # prvo odredimo najmanje udaljenosti od vec izabranih sredista\n",
    "        for i in range(nopt):\n",
    "            cl_point = 0\n",
    "            cl_dist = sed(X[i], C[0])\n",
    "            for j in range(len(C)):\n",
    "                temp_dist = sed(X[i], C[j])\n",
    "                if temp_dist < cl_dist:\n",
    "                    cl_dist = temp_dist\n",
    "                    cl_point = j\n",
    "            D.append(cl_dist)\n",
    "        # sad biramo novu tocku na radnom nacin pomocu distribucije proporcionalne s D^2 (u nasem slucaju je to upravo D)\n",
    "        # prvo nademo sumu da odredimo koji dio vjerojatnosti pripada danim tockama\n",
    "        # potom idemo po svim tockama i akumuliramo globalnu vjerojatnost dok ne prijedemo danu radnom vrijednost\n",
    "        sum_dist = sum(D)\n",
    "        r = random.random()\n",
    "        cum_prob = 0\n",
    "        for i in range(nopt):\n",
    "            # dodamo djelic vjerojatnosti od tocke na vjerojatnost i porvjerimo je li ju presla\n",
    "            cum_prob += D[i] / sum_dist\n",
    "            if cum_prob > r:\n",
    "                C.append(X[i])\n",
    "                break\n",
    "    return C"
   ]
  },
  {
   "cell_type": "code",
   "execution_count": 84,
   "metadata": {},
   "outputs": [],
   "source": [
    "def kmeans(x, noc, nopt, dimpt, noi):\n",
    "        cent = initialize(x, noc) #vraća početne centroide\n",
    "        gid=[]\n",
    "        for i in range(nopt): # punim listu gid (=group indicator), da bih je poslije mogao samo mijenjati\n",
    "                gid.append(0)\n",
    "                \n",
    "        for temp in range(noi,1,-2):\n",
    "                # odredjivanje clustera\n",
    "                for i in range(nopt):\n",
    "                        c=sed(x[i],cent[0])\n",
    "                        suma=tmp_dist=c\n",
    "                        gid[i]=0\n",
    "                        for j in range(1,noc):\n",
    "                                c=sed(x[i],cent[j])\n",
    "                                suma=suma+c\n",
    "                                if c < tmp_dist:\n",
    "                                        gid[i]=j\n",
    "                                        tmp_dist=c\n",
    "                        gid2=random.randint(0,noc-1)\n",
    "                        a=(1.0*temp/200.0)*(1.0*temp/200.0)*(noc*tmp_dist/suma)\n",
    "                        b=random.random()\n",
    "                        if b<a:\n",
    "                                gid[i]=gid2      \n",
    "                        \n",
    "                #računanje novih centroida\n",
    "                for i in range(noc):\n",
    "                        v=[]\n",
    "                        for j in range(dimpt):\n",
    "                                v.append(0)\n",
    "                        cl_count=0\n",
    "                        for j in range(nopt):\n",
    "                                if gid[j]==i:\n",
    "                                        cl_count=cl_count+1\n",
    "                                        v=sad(v,x[j])\n",
    "                        if cl_count>0:\n",
    "                                for j in range(dimpt):\n",
    "                                        cent[i][j]=v[j]*1.0/cl_count\n",
    "        #zapis u file\n",
    "                obj=0\n",
    "                for i in range(nopt):\n",
    "                        obj=obj+sed(x[i],cent[gid[i]])        \n",
    "                #f2.write(' %s %3d %20.10f \\n' % ('iteration', temp, obj))\n",
    "        \n",
    "        f1.close()\n",
    "        f2.close()\n",
    "\n",
    "        return(obj)"
   ]
  },
  {
   "cell_type": "code",
   "execution_count": 101,
   "metadata": {},
   "outputs": [],
   "source": [
    "k = [i+15 for i in range(15)]"
   ]
  },
  {
   "cell_type": "code",
   "execution_count": null,
   "metadata": {},
   "outputs": [],
   "source": [
    "from sklearn.cluster import KMeans"
   ]
  },
  {
   "cell_type": "code",
   "execution_count": 103,
   "metadata": {},
   "outputs": [],
   "source": [
    "q = []\n",
    "for i in range(15,30):\n",
    "    kmeans = KMeans(n_clusters=i, random_state=0).fit(x)\n",
    "    q.append(kmeans.inertia_)"
   ]
  },
  {
   "cell_type": "code",
   "execution_count": 153,
   "metadata": {},
   "outputs": [
    {
     "data": {
      "text/plain": [
       "[<matplotlib.lines.Line2D at 0x7fa88d844df0>]"
      ]
     },
     "execution_count": 153,
     "metadata": {},
     "output_type": "execute_result"
    },
    {
     "data": {
      "image/png": "[encoded data removed]",
      "text/plain": [
       "<Figure size 432x288 with 1 Axes>"
      ]
     },
     "metadata": {
      "needs_background": "light"
     },
     "output_type": "display_data"
    }
   ],
   "source": [
    "plt.plot(k,q)\n",
    "k_ = np.array(k)\n",
    "plt.plot(k, alpha/k_ + beta/k_**2, color = \"red\")"
   ]
  },
  {
   "cell_type": "code",
   "execution_count": 145,
   "metadata": {},
   "outputs": [],
   "source": [
    "from sklearn.linear_model import LinearRegression\n",
    "reg = LinearRegression().fit(X, y)\n",
    "beta = reg.intercept_\n",
    "alpha = reg.coef_"
   ]
  },
  {
   "cell_type": "code",
   "execution_count": 146,
   "metadata": {},
   "outputs": [],
   "source": [
    "X = np.array(k).reshape((-1,1))\n",
    "y = np.array(q) * (np.array(k) ** 2)"
   ]
  },
  {
   "cell_type": "code",
   "execution_count": 154,
   "metadata": {},
   "outputs": [
    {
     "data": {
      "text/plain": [
       "[<matplotlib.lines.Line2D at 0x7fa889c16370>]"
      ]
     },
     "execution_count": 154,
     "metadata": {},
     "output_type": "execute_result"
    },
    {
     "data": {
      "image/png": "[encoded data removed]",
      "text/plain": [
       "<Figure size 432x288 with 1 Axes>"
      ]
     },
     "metadata": {
      "needs_background": "light"
     },
     "output_type": "display_data"
    }
   ],
   "source": [
    "plt.plot(k,q)\n",
    "k_ = np.array(k)\n",
    "plt.plot(k, alpha/k_ + beta/k_**2, color = \"red\")"
   ]
  },
  {
   "cell_type": "code",
   "execution_count": null,
   "metadata": {},
   "outputs": [],
   "source": []
  }
 ],
 "metadata": {
  "interpreter": {
   "hash": "eeb592eeb14baf80ba7e3ad598b9cc718d92fa62785d72005ca19f7c0e0c833d"
  },
  "kernelspec": {
   "display_name": "Python 3.8.5 ('base')",
   "language": "python",
   "name": "python3"
  },
  "language_info": {
   "codemirror_mode": {
    "name": "ipython",
    "version": 3
   },
   "file_extension": ".py",
   "mimetype": "text/x-python",
   "name": "python",
   "nbconvert_exporter": "python",
   "pygments_lexer": "ipython3",
   "version": "3.8.5"
  },
  "orig_nbformat": 4
 },
 "nbformat": 4,
 "nbformat_minor": 2
}
