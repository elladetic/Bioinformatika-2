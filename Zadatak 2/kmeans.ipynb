{
 "cells": [
  {
   "cell_type": "markdown",
   "metadata": {},
   "source": [
<<<<<<< HEAD
    "#### Zadatak 4 i 5 - K means algoritam"
=======
    "#### Zadatak 2 - K means algoritam"
>>>>>>> Ellin-branch
   ]
  },
  {
   "cell_type": "code",
<<<<<<< HEAD
   "execution_count": 1,
   "metadata": {},
   "outputs": [],
   "source": [
    "import matplotlib.pyplot as plt\n",
    "from sklearn.linear_model import LinearRegression\n",
    "from sklearn.cluster import KMeans\n",
    "import numpy as np"
=======
   "execution_count": 72,
   "metadata": {},
   "outputs": [],
   "source": [
    "import random\n",
    "import math\n",
    "import matplotlib.pyplot as plt"
>>>>>>> Ellin-branch
   ]
  },
  {
   "cell_type": "code",
   "execution_count": 2,
   "metadata": {},
   "outputs": [],
   "source": [
<<<<<<< HEAD
    "f1 = open(\"data_small.txt\", \"r\")\n",
    "f2 = open(\"data_big.txt\", \"r\")\n",
    "\n",
    "f1.readline()\n",
    "nopt1 = int(f1.readline()) \n",
    "dimpt1 = int(f1.readline()) \n",
    "\n",
    "f2.readline()\n",
    "nopt2 = int(f2.readline()) \n",
    "dimpt2 = int(f2.readline()) \n",
    "\n",
    "x_small=[]\n",
    "x_big = []\n",
    "\n",
    "for i in range(nopt1):\n",
    "    line=f1.readline() \n",
    "    vector=line.split() \n",
    "    x_small.append(vector) \n",
    "for i in range(nopt1):\n",
    "        for j in range(dimpt1):\n",
    "                x_small[i][j]=float(x_small[i][j])\n",
    "                \n",
    "for i in range(nopt2):\n",
    "    line=f2.readline() \n",
    "    vector=line.split() \n",
    "    x_big.append(vector) \n",
    "for i in range(nopt2):\n",
    "        for j in range(dimpt2):\n",
    "                x_big[i][j]=float(x_big[i][j])"
=======
    "def sed(x,y): #vraća euklidsku duljinu između dva vektora u obliku lista\n",
    "    dist=0\n",
    "    for i in range(len(x)):\n",
    "        dist = dist + (x[i]-y[i])*(x[i]-y[i])\n",
    "    return dist"
   ]
  },
  {
   "cell_type": "code",
   "execution_count": 9,
   "metadata": {},
   "outputs": [],
   "source": [
    "def sad(x,y): #zbraja vektore po kordinatama\n",
    "        v=[]\n",
    "        for i in range(len(x)):\n",
    "                v.append(x[i]+y[i])\n",
    "        return v"
   ]
  },
  {
   "cell_type": "code",
   "execution_count": 97,
   "metadata": {},
   "outputs": [],
   "source": [
    "f1 = open(\"podaci005.txt\", \"r\")\n",
    "f2 = open(\"res005++.txt\", \"w\")\n",
    "\n",
    "noc = int(f1.readline()) #broj centra\n",
    "nopt = int(f1.readline()) #broj tocaka\n",
    "dimpt = int(f1.readline()) #dimenzija točaka\n",
    "\n",
    "noi=50 # broj iteracija, modificirati po potrebi\n",
    "x=[]\n",
    "\n",
    "#čitamo datoteku\n",
    "for i in range(nopt):\n",
    "    line=f1.readline() \n",
    "    vector=line.split() \n",
    "    x.append(vector) \n",
    "for i in range(nopt):\n",
    "        for j in range(dimpt):\n",
    "                x[i][j]=float(x[i][j])"
>>>>>>> Ellin-branch
   ]
  },
  {
   "cell_type": "code",
<<<<<<< HEAD
   "execution_count": 3,
   "metadata": {},
   "outputs": [],
   "source": [
    "k = [i+1 for i in range(30)]\n",
    "q_small = []\n",
    "q_big = []\n",
    "\n",
    "for i in range(1,31):\n",
    "    kmeans_small = KMeans(n_clusters=i, random_state=0).fit(x_small)\n",
    "    kmeans_big = KMeans(n_clusters=i, random_state=0).fit(x_big)\n",
    "    q_small.append(kmeans_small.inertia_)\n",
    "    q_big.append(kmeans_big.inertia_)"
=======
   "execution_count": 98,
   "metadata": {},
   "outputs": [],
   "source": [
    "# inicijalizacija centara za k-means++\n",
    "def initialize(X, K):\n",
    "    C = [X[random.randint(0, nopt - 1)]]\n",
    "    for k in range(1, K):\n",
    "        #print(k)\n",
    "        D = []\n",
    "        # prvo odredimo najmanje udaljenosti od vec izabranih sredista\n",
    "        for i in range(nopt):\n",
    "            cl_point = 0\n",
    "            cl_dist = sed(X[i], C[0])\n",
    "            for j in range(len(C)):\n",
    "                temp_dist = sed(X[i], C[j])\n",
    "                if temp_dist < cl_dist:\n",
    "                    cl_dist = temp_dist\n",
    "                    cl_point = j\n",
    "            D.append(cl_dist)\n",
    "        # sad biramo novu tocku na radnom nacin pomocu distribucije proporcionalne s D^2 (u nasem slucaju je to upravo D)\n",
    "        # prvo nademo sumu da odredimo koji dio vjerojatnosti pripada danim tockama\n",
    "        # potom idemo po svim tockama i akumuliramo globalnu vjerojatnost dok ne prijedemo danu radnom vrijednost\n",
    "        sum_dist = sum(D)\n",
    "        r = random.random()\n",
    "        cum_prob = 0\n",
    "        for i in range(nopt):\n",
    "            # dodamo djelic vjerojatnosti od tocke na vjerojatnost i porvjerimo je li ju presla\n",
    "            cum_prob += D[i] / sum_dist\n",
    "            if cum_prob > r:\n",
    "                C.append(X[i])\n",
    "                break\n",
    "    return C"
>>>>>>> Ellin-branch
   ]
  },
  {
   "cell_type": "code",
<<<<<<< HEAD
   "execution_count": 4,
   "metadata": {},
   "outputs": [
    {
     "data": {
      "text/plain": [
       "Text(0.5, 1.0, 'Manji set podataka')"
      ]
     },
     "execution_count": 4,
     "metadata": {},
     "output_type": "execute_result"
    },
    {
     "data": {
      "image/png": "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",
      "text/plain": [
       "<Figure size 432x288 with 1 Axes>"
      ]
     },
     "metadata": {
      "needs_background": "light"
     },
     "output_type": "display_data"
    }
   ],
   "source": [
    "plt.plot(k[0:10],q_small[0:10], color=\"green\")\n",
    "plt.title(\"Manji set podataka\")"
=======
   "execution_count": 84,
   "metadata": {},
   "outputs": [],
   "source": [
    "def kmeans(x, noc, nopt, dimpt, noi):\n",
    "        cent = initialize(x, noc) #vraća početne centroide\n",
    "        gid=[]\n",
    "        for i in range(nopt): # punim listu gid (=group indicator), da bih je poslije mogao samo mijenjati\n",
    "                gid.append(0)\n",
    "                \n",
    "        for temp in range(noi,1,-2):\n",
    "                # odredjivanje clustera\n",
    "                for i in range(nopt):\n",
    "                        c=sed(x[i],cent[0])\n",
    "                        suma=tmp_dist=c\n",
    "                        gid[i]=0\n",
    "                        for j in range(1,noc):\n",
    "                                c=sed(x[i],cent[j])\n",
    "                                suma=suma+c\n",
    "                                if c < tmp_dist:\n",
    "                                        gid[i]=j\n",
    "                                        tmp_dist=c\n",
    "                        gid2=random.randint(0,noc-1)\n",
    "                        a=(1.0*temp/200.0)*(1.0*temp/200.0)*(noc*tmp_dist/suma)\n",
    "                        b=random.random()\n",
    "                        if b<a:\n",
    "                                gid[i]=gid2      \n",
    "                        \n",
    "                #računanje novih centroida\n",
    "                for i in range(noc):\n",
    "                        v=[]\n",
    "                        for j in range(dimpt):\n",
    "                                v.append(0)\n",
    "                        cl_count=0\n",
    "                        for j in range(nopt):\n",
    "                                if gid[j]==i:\n",
    "                                        cl_count=cl_count+1\n",
    "                                        v=sad(v,x[j])\n",
    "                        if cl_count>0:\n",
    "                                for j in range(dimpt):\n",
    "                                        cent[i][j]=v[j]*1.0/cl_count\n",
    "        #zapis u file\n",
    "                obj=0\n",
    "                for i in range(nopt):\n",
    "                        obj=obj+sed(x[i],cent[gid[i]])        \n",
    "                #f2.write(' %s %3d %20.10f \\n' % ('iteration', temp, obj))\n",
    "        \n",
    "        f1.close()\n",
    "        f2.close()\n",
    "\n",
    "        return(obj)"
>>>>>>> Ellin-branch
   ]
  },
  {
   "cell_type": "code",
<<<<<<< HEAD
   "execution_count": 5,
   "metadata": {},
   "outputs": [
    {
     "data": {
      "text/plain": [
       "Text(0.5, 1.0, 'Veći set podataka')"
      ]
     },
     "execution_count": 5,
     "metadata": {},
     "output_type": "execute_result"
    },
    {
     "data": {
      "image/png": "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",
      "text/plain": [
       "<Figure size 432x288 with 1 Axes>"
      ]
     },
     "metadata": {
      "needs_background": "light"
     },
     "output_type": "display_data"
    }
   ],
   "source": [
    "plt.plot(k,q_big, color=\"red\")\n",
    "plt.title(\"Veći set podataka\")"
   ]
  },
  {
   "cell_type": "markdown",
   "metadata": {},
   "source": [
    "##### Zadatak 5. - Metoda lakta"
=======
   "execution_count": 101,
   "metadata": {},
   "outputs": [],
   "source": [
    "k = [i+15 for i in range(15)]"
   ]
  },
  {
   "cell_type": "code",
   "execution_count": null,
   "metadata": {},
   "outputs": [],
   "source": [
    "from sklearn.cluster import KMeans"
>>>>>>> Ellin-branch
   ]
  },
  {
   "cell_type": "code",
<<<<<<< HEAD
   "execution_count": 6,
   "metadata": {},
   "outputs": [],
   "source": [
    "X = np.array(k).reshape((-1,1))\n",
    "y_small = np.array(q_small) * (np.array(k) ** 2)\n",
    "\n",
    "reg = LinearRegression().fit(X, y_small)\n",
    "beta_small = reg.intercept_\n",
    "alpha_small = reg.coef_\n",
    "\n",
    "k_ = np.array(k)"
=======
   "execution_count": 103,
   "metadata": {},
   "outputs": [],
   "source": [
    "q = []\n",
    "for i in range(15,30):\n",
    "    kmeans = KMeans(n_clusters=i, random_state=0).fit(x)\n",
    "    q.append(kmeans.inertia_)"
>>>>>>> Ellin-branch
   ]
  },
  {
   "cell_type": "code",
<<<<<<< HEAD
   "execution_count": 7,
=======
   "execution_count": 153,
>>>>>>> Ellin-branch
   "metadata": {},
   "outputs": [
    {
     "data": {
      "text/plain": [
<<<<<<< HEAD
       "Text(0.5, 1.0, 'Manji set podataka')"
      ]
     },
     "execution_count": 7,
=======
       "[<matplotlib.lines.Line2D at 0x7fa88d844df0>]"
      ]
     },
     "execution_count": 153,
>>>>>>> Ellin-branch
     "metadata": {},
     "output_type": "execute_result"
    },
    {
     "data": {
<<<<<<< HEAD
      "image/png": "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",
=======
      "image/png": "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",
>>>>>>> Ellin-branch
      "text/plain": [
       "<Figure size 432x288 with 1 Axes>"
      ]
     },
     "metadata": {
      "needs_background": "light"
     },
     "output_type": "display_data"
    }
   ],
   "source": [
<<<<<<< HEAD
    "plt.plot(k,q_small)\n",
    "plt.plot(k, alpha_small/k_ + beta_small/(k_**2), color = \"red\")\n",
    "plt.title(\"Manji set podataka\")"
=======
    "plt.plot(k,q)\n",
    "k_ = np.array(k)\n",
    "plt.plot(k, alpha/k_ + beta/k_**2, color = \"red\")"
   ]
  },
  {
   "cell_type": "code",
   "execution_count": 145,
   "metadata": {},
   "outputs": [],
   "source": [
    "from sklearn.linear_model import LinearRegression\n",
    "reg = LinearRegression().fit(X, y)\n",
    "beta = reg.intercept_\n",
    "alpha = reg.coef_"
>>>>>>> Ellin-branch
   ]
  },
  {
   "cell_type": "code",
<<<<<<< HEAD
   "execution_count": 8,
   "metadata": {},
   "outputs": [],
   "source": [
    "k = [i+15 for i in range(15)] #trebam uravnoteženi k .. zato se stvari malo kompliciraju\n",
    "X = np.array(k).reshape((-1,1))\n",
    "\n",
    "q_big_again = []\n",
    "\n",
    "for i in range(15,30):\n",
    "    kmeans_big = KMeans(n_clusters=i, random_state=0).fit(x_big)\n",
    "    q_big_again.append(kmeans_big.inertia_)\n",
    "    \n",
    "y_big = np.array(q_big_again) * (np.array(k) ** 2)\n",
    "\n",
    "reg2 = LinearRegression().fit(X, y_big)\n",
    "beta_big = reg2.intercept_\n",
    "alpha_big = reg2.coef_\n",
    "\n",
    "k_ = np.array(k)"
=======
   "execution_count": 146,
   "metadata": {},
   "outputs": [],
   "source": [
    "X = np.array(k).reshape((-1,1))\n",
    "y = np.array(q) * (np.array(k) ** 2)"
>>>>>>> Ellin-branch
   ]
  },
  {
   "cell_type": "code",
<<<<<<< HEAD
   "execution_count": 9,
=======
   "execution_count": 154,
>>>>>>> Ellin-branch
   "metadata": {},
   "outputs": [
    {
     "data": {
      "text/plain": [
<<<<<<< HEAD
       "Text(0.5, 1.0, 'Veći set podataka')"
      ]
     },
     "execution_count": 9,
=======
       "[<matplotlib.lines.Line2D at 0x7fa889c16370>]"
      ]
     },
     "execution_count": 154,
>>>>>>> Ellin-branch
     "metadata": {},
     "output_type": "execute_result"
    },
    {
     "data": {
<<<<<<< HEAD
      "image/png": "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",
=======
      "image/png": "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",
>>>>>>> Ellin-branch
      "text/plain": [
       "<Figure size 432x288 with 1 Axes>"
      ]
     },
     "metadata": {
      "needs_background": "light"
     },
     "output_type": "display_data"
    }
   ],
   "source": [
<<<<<<< HEAD
    "plt.plot(k, q_big_again)\n",
    "plt.plot(k, alpha_big/k_ + beta_big/(k_**2), color = \"red\")\n",
    "plt.title(\"Veći set podataka\")"
   ]
=======
    "plt.plot(k,q)\n",
    "k_ = np.array(k)\n",
    "plt.plot(k, alpha/k_ + beta/k_**2, color = \"red\")"
   ]
  },
  {
   "cell_type": "code",
   "execution_count": null,
   "metadata": {},
   "outputs": [],
   "source": []
>>>>>>> Ellin-branch
  }
 ],
 "metadata": {
  "interpreter": {
   "hash": "eeb592eeb14baf80ba7e3ad598b9cc718d92fa62785d72005ca19f7c0e0c833d"
  },
  "kernelspec": {
   "display_name": "Python 3.8.5 ('base')",
   "language": "python",
   "name": "python3"
  },
  "language_info": {
   "codemirror_mode": {
    "name": "ipython",
    "version": 3
   },
   "file_extension": ".py",
   "mimetype": "text/x-python",
   "name": "python",
   "nbconvert_exporter": "python",
   "pygments_lexer": "ipython3",
   "version": "3.8.5"
  },
  "orig_nbformat": 4
 },
 "nbformat": 4,
 "nbformat_minor": 2
}
