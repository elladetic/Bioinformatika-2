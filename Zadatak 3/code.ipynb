{
 "cells": [
  {
   "cell_type": "markdown",
   "metadata": {},
   "source": [
    "Rješenje trećeg zadatka"
   ]
  },
  {
   "cell_type": "markdown",
   "metadata": {},
   "source": [
    "Nad točkama grafa radimo. Kreiramo matricu povezanosti za taj graf.\n",
    "Kreiramo matricu udaljenosti koristeći matricu povezanosti. Na dijagonali su 0, matrica je simetrična. "
   ]
  },
  {
   "cell_type": "code",
   "execution_count": 1,
   "metadata": {},
   "outputs": [],
   "source": [
    "import math\n",
    "import random\n",
    "from sklearn.manifold import MDS\n",
    "import matplotlib.pyplot as plt\n",
    "import math\n",
    "import random\n",
    "\n",
    "import pandas as pd \n",
    "import numpy as np"
   ]
  },
  {
   "cell_type": "code",
   "execution_count": 2,
   "metadata": {},
   "outputs": [],
   "source": [
    "def d(x,y):\n",
    "    s = 0\n",
    "    for i in range(len(x)):\n",
    "        s += (x[i]-y[i])**2\n",
    "    return math.sqrt(s)\n",
    "\n",
    "def teziste(vektori):\n",
    "    t=[]\n",
    "    for i in range(len(vektori[0])):\n",
    "        t.append(0)\n",
    "    for v in vektori:\n",
    "        for i in range(len(v)):\n",
    "            t[i]+=v[i]\n",
    "    for i in range(len(t)):\n",
    "        t[i]=t[i]/float(len(vektori))\n",
    "    return t\n",
    "\n",
    "def kugla(vektori, teziste, radius): \n",
    "    rez=[]\n",
    "    for v in vektori:\n",
    "        if d(v,teziste)<radius:\n",
    "            rez.append(v)\n",
    "    return rez\n",
    "\n",
    "def najveci_r(vektori, centar):\n",
    "    a=0\n",
    "    for v in vektori:\n",
    "        if d(v,centar)>a:\n",
    "            a=d(v,centar)\n",
    "    return a\n",
    "\n",
    "\n",
    "def getBestBall(R, vektori):\n",
    "    tempVektori=vektori[:]\n",
    "    r=1\n",
    "    i=0\n",
    "    npoints_in_ball = []\n",
    "    nradius_in_ball = []\n",
    "    while r>R:\n",
    "        t=teziste(tempVektori)\n",
    "        tempVektori=kugla(vektori, t, r)\n",
    "        npoints_in_ball.append(len(tempVektori))\n",
    "        nradius_in_ball.append(r)\n",
    "        r=r*0.99\n",
    "\n",
    "    #npoints_in_ball = len(tempVektori)\n",
    "    nradius_in_ball.pop(0)\n",
    "    return tempVektori,npoints_in_ball,nradius_in_ball\n",
    "\n",
    "def incidence_matrix(n, k):\n",
    "    im=[]\n",
    "    tmp = []\n",
    "    \n",
    "    for i in range(n):\n",
    "        tmp.append(0)\n",
    "\n",
    "    for i in range(n):\n",
    "        im.append(tmp[:])\n",
    "\n",
    "    for i in range(k): #radim kliku\n",
    "        for j in range(k):\n",
    "            im[i][j]=1\n",
    "\n",
    "    for i in range(n):\n",
    "        im[i][i]=1\n",
    "    \n",
    "    return im\n",
    "    \n",
    "\n",
    "def distance_matrix(incidence_matrix):\n",
    "    n = len(incidence_matrix)\n",
    "    \n",
    "    tmp=[]\n",
    "    for i in range(n):\n",
    "        tmp.append(0)\n",
    "\n",
    "    dm=[] \n",
    "    for i in range(n):\n",
    "        dm.append(tmp[:])\n",
    "\n",
    "    for i in range(n):\n",
    "        for j in range(i,n):\n",
    "            a = random.random()\n",
    "            dm[i][j] = math.exp(-5*incidence_matrix[i][j])+a*1/20\n",
    "            dm[j][i] = dm[i][j]\n",
    "    \n",
    "    for i in range(n):\n",
    "        dm[i][i]=0\n",
    "    \n",
    "    return dm\n"
   ]
  },
  {
   "cell_type": "code",
   "execution_count": 3,
   "metadata": {},
   "outputs": [],
   "source": [
    "n = 100 #broj vrhova/vektora, dimenzija kvadrate matrice incidence\n",
    "k = 9 #dimenzija klike, odnosno broj povezanih vrhova, klika će nam biti u gornjem lijevom kutu\n",
    "n_new = 2\n",
    "\n",
    "#create incidence and distance\n",
    "IN_MATRIX = incidence_matrix(n, k)\n",
    "DIS_MATRIX = distance_matrix(IN_MATRIX)\n",
    "\n",
    "#pd.DataFrame(DIS_MATRIX) "
   ]
  },
  {
   "cell_type": "code",
   "execution_count": 5,
   "metadata": {},
   "outputs": [],
   "source": [
    "my_MDS = MDS(n_components= 2,  dissimilarity= \"precomputed\") \n",
    "new_points = my_MDS.fit_transform(DIS_MATRIX) #dobijemo 100 parova tocaka u 2D -> ulaganjem n dim prostora u prostor dimenzije n_new\n",
    "\n",
    "in_ball,npoints, nradius = getBestBall(0.2, new_points)\n",
    "in_ball = np.array(in_ball)"
   ]
  },
  {
   "cell_type": "code",
   "execution_count": 6,
   "metadata": {},
   "outputs": [
    {
     "data": {
      "text/plain": [
       "[<matplotlib.lines.Line2D at 0x7faef4fd7fa0>]"
      ]
     },
     "execution_count": 6,
     "metadata": {},
     "output_type": "execute_result"
    },
    {
     "data": {
      "image/png": "[encoded data removed]",
      "text/plain": [
       "<Figure size 432x288 with 1 Axes>"
      ]
     },
     "metadata": {
      "needs_background": "light"
     },
     "output_type": "display_data"
    }
   ],
   "source": [
    "plt.plot(nradius, abs(np.diff(npoints)), color=\"red\")"
   ]
  },
  {
   "cell_type": "code",
   "execution_count": 7,
   "metadata": {},
   "outputs": [
    {
     "ename": "NameError",
     "evalue": "name 't' is not defined",
     "output_type": "error",
     "traceback": [
      "\u001b[0;31m---------------------------------------------------------------------------\u001b[0m",
      "\u001b[0;31mNameError\u001b[0m                                 Traceback (most recent call last)",
      "\u001b[0;32m/var/folders/d3/xr9k6gp148s_pc6q399vjm2h0000gn/T/ipykernel_1829/4202730308.py\u001b[0m in \u001b[0;36m<module>\u001b[0;34m\u001b[0m\n\u001b[1;32m      8\u001b[0m \u001b[0;34m\u001b[0m\u001b[0m\n\u001b[1;32m      9\u001b[0m \u001b[0;34m\u001b[0m\u001b[0m\n\u001b[0;32m---> 10\u001b[0;31m \u001b[0mmy_circle\u001b[0m \u001b[0;34m=\u001b[0m \u001b[0mplt\u001b[0m\u001b[0;34m.\u001b[0m\u001b[0mCircle\u001b[0m\u001b[0;34m(\u001b[0m\u001b[0mt\u001b[0m\u001b[0;34m,\u001b[0m \u001b[0;36m0.1\u001b[0m\u001b[0;34m,\u001b[0m \u001b[0mcolor\u001b[0m\u001b[0;34m=\u001b[0m\u001b[0;34m\"green\"\u001b[0m\u001b[0;34m,\u001b[0m \u001b[0mfill\u001b[0m \u001b[0;34m=\u001b[0m \u001b[0;32mFalse\u001b[0m\u001b[0;34m)\u001b[0m\u001b[0;34m\u001b[0m\u001b[0;34m\u001b[0m\u001b[0m\n\u001b[0m\u001b[1;32m     11\u001b[0m \u001b[0mmy_circle2\u001b[0m \u001b[0;34m=\u001b[0m \u001b[0mplt\u001b[0m\u001b[0;34m.\u001b[0m\u001b[0mCircle\u001b[0m\u001b[0;34m(\u001b[0m\u001b[0mt\u001b[0m\u001b[0;34m,\u001b[0m \u001b[0mmy_R\u001b[0m\u001b[0;34m,\u001b[0m \u001b[0mcolor\u001b[0m\u001b[0;34m=\u001b[0m\u001b[0;34m\"pink\"\u001b[0m\u001b[0;34m,\u001b[0m \u001b[0mfill\u001b[0m \u001b[0;34m=\u001b[0m \u001b[0;32mFalse\u001b[0m\u001b[0;34m)\u001b[0m\u001b[0;34m\u001b[0m\u001b[0;34m\u001b[0m\u001b[0m\n\u001b[1;32m     12\u001b[0m \u001b[0;34m\u001b[0m\u001b[0m\n",
      "\u001b[0;31mNameError\u001b[0m: name 't' is not defined"
     ]
    },
    {
     "data": {
      "image/png": "[encoded data removed]",
      "text/plain": [
       "<Figure size 432x288 with 1 Axes>"
      ]
     },
     "metadata": {
      "needs_background": "light"
     },
     "output_type": "display_data"
    }
   ],
   "source": [
    "#vizualizacija klike\n",
    "fig, ax = plt.subplots()\n",
    "\n",
    "plt.scatter(new_points[0:k,0], new_points[0:k,1], color = \"blue\", s = 3)\n",
    "#plt.scatter(new_points[k:100,0], new_points[k:100,1], color=\"yellow\")\n",
    "plt.scatter(in_ball[:, 0], in_ball[:, 1], color=\"red\", s = 3)\n",
    "\n",
    " \n",
    "\n",
    "my_circle = plt.Circle(t, 0.1, color=\"green\", fill = False)\n",
    "my_circle2 = plt.Circle(t, my_R, color=\"pink\", fill = False)\n",
    "\n",
    "#ax.add_patch(my_circle)\n",
    "ax.add_patch(my_circle2)\n",
    "\n",
    "\n",
    "ax.hlines(y=t[1], xmin=t[0], xmax=t[0] + my_R, linewidth=2, color='r')"
   ]
  },
  {
   "cell_type": "code",
   "execution_count": 8,
   "metadata": {},
   "outputs": [
    {
     "data": {
      "text/plain": [
       "<matplotlib.collections.PathCollection at 0x7faef52dad30>"
      ]
     },
     "execution_count": 8,
     "metadata": {},
     "output_type": "execute_result"
    },
    {
     "data": {
      "image/png": "[encoded data removed]",
      "text/plain": [
       "<Figure size 432x288 with 1 Axes>"
      ]
     },
     "metadata": {
      "needs_background": "light"
     },
     "output_type": "display_data"
    }
   ],
   "source": [
    "plt.scatter(new_points[0:k,0], new_points[0:k,1], color = \"yellow\") #drugom bojom označimo kliku kako bismo je lakše uočili\n",
    "plt.scatter(new_points[k:100,0], new_points[k:100,1], color=\"blue\") "
   ]
  },
  {
   "cell_type": "code",
   "execution_count": 9,
   "metadata": {},
   "outputs": [
    {
     "data": {
      "text/plain": [
       "<matplotlib.collections.PathCollection at 0x7faef5362b80>"
      ]
     },
     "execution_count": 9,
     "metadata": {},
     "output_type": "execute_result"
    },
    {
     "data": {
      "image/png": "[encoded data removed]",
      "text/plain": [
       "<Figure size 432x288 with 1 Axes>"
      ]
     },
     "metadata": {
      "needs_background": "light"
     },
     "output_type": "display_data"
    }
   ],
   "source": [
    "plt.scatter(in_ball[:, 0], in_ball[:, 1], color=\"red\")"
   ]
  },
  {
   "cell_type": "code",
   "execution_count": null,
   "metadata": {},
   "outputs": [],
   "source": []
  }
 ],
 "metadata": {
  "interpreter": {
   "hash": "eeb592eeb14baf80ba7e3ad598b9cc718d92fa62785d72005ca19f7c0e0c833d"
  },
  "kernelspec": {
   "display_name": "Python 3.8.5 ('base')",
   "language": "python",
   "name": "python3"
  },
  "language_info": {
   "codemirror_mode": {
    "name": "ipython",
    "version": 3
   },
   "file_extension": ".py",
   "mimetype": "text/x-python",
   "name": "python",
   "nbconvert_exporter": "python",
   "pygments_lexer": "ipython3",
   "version": "3.8.5"
  },
  "orig_nbformat": 4
 },
 "nbformat": 4,
 "nbformat_minor": 2
}
