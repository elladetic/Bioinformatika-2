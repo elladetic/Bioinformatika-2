{
 "cells": [
  {
   "cell_type": "markdown",
   "metadata": {},
   "source": [
    "## Rješenje četvrtog zadatka"
   ]
  },
  {
   "cell_type": "code",
   "execution_count": 1,
   "metadata": {},
   "outputs": [],
   "source": [
    "from sklearn.feature_extraction.text import TfidfVectorizer\n",
    "import pandas as pd\n",
    "from textwrap import wrap\n",
    "import numpy as np"
   ]
  },
  {
   "cell_type": "code",
   "execution_count": 2,
   "metadata": {},
   "outputs": [],
   "source": [
    "with open('proteini.txt') as f:\n",
    "    proteini = f.readlines()\n",
    "    \n"
   ]
  },
  {
   "cell_type": "code",
   "execution_count": 31,
   "metadata": {},
   "outputs": [],
   "source": [
    "#način preko df-a\n",
    "\n",
    "df = pd.DataFrame(proteini)\n",
    "\n",
    "df[\"proteini_1\"] = df[0].apply(lambda string: wrap(string, 1))\n",
    "df[\"proteini_1\"] = df.proteini_1.str.join(' ')\n",
    "\n",
    "df[\"proteini_2\"] = df[0].apply(lambda string: wrap(string, 2))\n",
    "df[\"proteini_2\"] = df.proteini_2.str.join(' ')\n",
    "\n",
    "df[\"proteini_3\"] = df[0].apply(lambda string: wrap(string, 3))\n",
    "df[\"proteini_3\"] = df.proteini_3.str.join(' ')\n",
    "\n",
    "df = df.drop([0], axis = 1)"
   ]
  },
  {
   "cell_type": "code",
   "execution_count": 42,
   "metadata": {},
   "outputs": [],
   "source": [
    "list = []\n",
    "\n",
    "for i in range(600):\n",
    "    list.append(df[\"proteini_1\"][i] + ' ' + df[\"proteini_2\"][i] + ' ' +  df[\"proteini_3\"][i]) #msm da u ovom obliku on mora doc do algoritma!\n"
   ]
  },
  {
   "cell_type": "code",
   "execution_count": 50,
   "metadata": {},
   "outputs": [
    {
     "ename": "AttributeError",
     "evalue": "'TfidfVectorizer' object has no attribute 'get_feature_names_out'",
     "output_type": "error",
     "traceback": [
      "\u001b[0;31m---------------------------------------------------------------------------\u001b[0m",
      "\u001b[0;31mAttributeError\u001b[0m                            Traceback (most recent call last)",
      "\u001b[0;32m/var/folders/d3/xr9k6gp148s_pc6q399vjm2h0000gn/T/ipykernel_2143/2721306358.py\u001b[0m in \u001b[0;36m<module>\u001b[0;34m\u001b[0m\n\u001b[1;32m      1\u001b[0m \u001b[0mvectorizer\u001b[0m \u001b[0;34m=\u001b[0m \u001b[0mTfidfVectorizer\u001b[0m\u001b[0;34m(\u001b[0m\u001b[0;34m)\u001b[0m\u001b[0;34m\u001b[0m\u001b[0;34m\u001b[0m\u001b[0m\n\u001b[1;32m      2\u001b[0m \u001b[0mX\u001b[0m \u001b[0;34m=\u001b[0m \u001b[0mvectorizer\u001b[0m\u001b[0;34m.\u001b[0m\u001b[0mfit_transform\u001b[0m\u001b[0;34m(\u001b[0m\u001b[0mlist\u001b[0m\u001b[0;34m)\u001b[0m\u001b[0;34m\u001b[0m\u001b[0;34m\u001b[0m\u001b[0m\n\u001b[0;32m----> 3\u001b[0;31m \u001b[0mvectorizer\u001b[0m\u001b[0;34m.\u001b[0m\u001b[0mget_feature_names_out\u001b[0m\u001b[0;34m(\u001b[0m\u001b[0;34m)\u001b[0m\u001b[0;34m\u001b[0m\u001b[0;34m\u001b[0m\u001b[0m\n\u001b[0m\u001b[1;32m      4\u001b[0m \u001b[0mprint\u001b[0m\u001b[0;34m(\u001b[0m\u001b[0mX\u001b[0m\u001b[0;34m.\u001b[0m\u001b[0mshape\u001b[0m\u001b[0;34m)\u001b[0m\u001b[0;34m\u001b[0m\u001b[0;34m\u001b[0m\u001b[0m\n",
      "\u001b[0;31mAttributeError\u001b[0m: 'TfidfVectorizer' object has no attribute 'get_feature_names_out'"
     ]
    }
   ],
   "source": [
    "vectorizer = TfidfVectorizer()\n",
    "X = vectorizer.fit_transform(list)\n",
    "vectorizer.get_feature_names_out()\n",
    "print(X.shape)"
   ]
  },
  {
   "cell_type": "code",
   "execution_count": 14,
   "metadata": {},
   "outputs": [
    {
     "name": "stdout",
     "output_type": "stream",
     "text": [
      "(600, 76006)\n"
     ]
    }
   ],
   "source": [
    "vectorizer = TfidfVectorizer(ngram_range = (1,2), min_df = 0) #možda da mu ne dam sve odjednom već posebno pa onda spojim u matricu - upute od prof\n",
    "#prva matrica je 20 x 20, druga je 400 x 400, treća je 8000 x 8000 -> finalna mora biti 8420 x 8420\n",
    "X_3 = vectorizer.fit_transform(df[\"proteini_3\"])\n",
    "print(X_3.shape)"
   ]
  },
  {
   "cell_type": "markdown",
   "metadata": {},
   "source": [
    "#### 15.5.2022."
   ]
  },
  {
   "cell_type": "code",
   "execution_count": 16,
   "metadata": {},
   "outputs": [],
   "source": [
    "#drugi nacin, bez df pomocu lista\n",
    "\n",
    "with open('proteini.txt') as f:\n",
    "    proteini = f.readlines()\n",
    "\n",
    "proteini_1 = []\n",
    "proteini_2 = []\n",
    "proteini_3 = []\n",
    "    \n",
    "for i in range(len(proteini)):\n",
    "    proteini[i] = proteini[i].replace('\\n', '')\n",
    "    proteini_1.append(wrap(proteini[i], 1))\n",
    "    proteini_2.append(wrap(proteini[i], 2))\n",
    "    proteini_3.append(wrap(proteini[i], 3))\n",
    "    \n",
    "#proteini_1 = proteini.apply(lambda string: wrap(string, 1))\n",
    "#proteini_1 = df.proteini_1.str.join(' ')\n"
   ]
  },
  {
   "cell_type": "code",
   "execution_count": 71,
   "metadata": {},
   "outputs": [],
   "source": [
    "lst = proteini_1"
   ]
  },
  {
   "cell_type": "code",
   "execution_count": 75,
   "metadata": {},
   "outputs": [
    {
     "ename": "SyntaxError",
     "evalue": "invalid syntax (975455895.py, line 11)",
     "output_type": "error",
     "traceback": [
      "\u001b[0;36m  File \u001b[0;32m\"/var/folders/d3/xr9k6gp148s_pc6q399vjm2h0000gn/T/ipykernel_1633/975455895.py\"\u001b[0;36m, line \u001b[0;32m11\u001b[0m\n\u001b[0;31m    for j in i + 1:range(len(sublst)):\u001b[0m\n\u001b[0m                                      ^\u001b[0m\n\u001b[0;31mSyntaxError\u001b[0m\u001b[0;31m:\u001b[0m invalid syntax\n"
     ]
    }
   ],
   "source": [
    "words = set()\n",
    "for sublst in lst:\n",
    "    words |= set(sublst)\n",
    "words = list(words)\n",
    "\n",
    "result = [[0] * len(words)] * len(words) # zeros matrix N x N\n",
    "\n",
    "for sublst in lst:\n",
    "    sublst = list(set(sublst)) # selecting unique words only\n",
    "    for i in range(len(sublst)):\n",
    "        for j in i + 1:range(len(sublst))\n",
    "            index1 = words.index(sublst[i])\n",
    "            index2 = words.index(sublst[j])\n",
    "            result[index1][index2] += 1\n",
    "            result[index2][index1] += 1\n"
   ]
  },
  {
   "cell_type": "code",
   "execution_count": null,
   "metadata": {},
   "outputs": [],
   "source": []
  }
 ],
 "metadata": {
  "interpreter": {
   "hash": "eeb592eeb14baf80ba7e3ad598b9cc718d92fa62785d72005ca19f7c0e0c833d"
  },
  "kernelspec": {
   "display_name": "Python 3.8.5 ('base')",
   "language": "python",
   "name": "python3"
  },
  "language_info": {
   "codemirror_mode": {
    "name": "ipython",
    "version": 3
   },
   "file_extension": ".py",
   "mimetype": "text/x-python",
   "name": "python",
   "nbconvert_exporter": "python",
   "pygments_lexer": "ipython3",
   "version": "3.8.5"
  },
  "orig_nbformat": 4
 },
 "nbformat": 4,
 "nbformat_minor": 2
}
